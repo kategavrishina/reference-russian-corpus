{
  "nbformat": 4,
  "nbformat_minor": 0,
  "metadata": {
    "colab": {
      "name": "predict_roles.ipynb",
      "provenance": [],
      "toc_visible": true,
      "authorship_tag": "ABX9TyMBIil8wauARqJ/oQXMGsbf",
      "include_colab_link": true
    },
    "kernelspec": {
      "name": "python3",
      "display_name": "Python 3"
    },
    "accelerator": "GPU"
  },
  "cells": [
    {
      "cell_type": "markdown",
      "metadata": {
        "id": "view-in-github",
        "colab_type": "text"
      },
      "source": [
        "<a href=\"https://colab.research.google.com/github/kategavrishina/reference-russian-corpus/blob/main/predict_roles.ipynb\" target=\"_parent\"><img src=\"https://colab.research.google.com/assets/colab-badge.svg\" alt=\"Open In Colab\"/></a>"
      ]
    },
    {
      "cell_type": "code",
      "metadata": {
        "id": "P6KCBKgb2kTe",
        "outputId": "e6fd935c-a547-4e9a-ea9c-ea22985569af",
        "colab": {
          "base_uri": "https://localhost:8080/",
          "height": 35
        }
      },
      "source": [
        "from google.colab import drive\n",
        "drive.mount('gdrive')"
      ],
      "execution_count": null,
      "outputs": [
        {
          "output_type": "stream",
          "text": [
            "Mounted at gdrive\n"
          ],
          "name": "stdout"
        }
      ]
    },
    {
      "cell_type": "code",
      "metadata": {
        "id": "Z26503P62nbx",
        "outputId": "b6b7b3d3-b7e1-4f69-959c-6d09ab685dce",
        "colab": {
          "base_uri": "https://localhost:8080/",
          "height": 35
        }
      },
      "source": [
        "%cd /content/gdrive/My Drive"
      ],
      "execution_count": null,
      "outputs": [
        {
          "output_type": "stream",
          "text": [
            "/content/gdrive/My Drive\n"
          ],
          "name": "stdout"
        }
      ]
    },
    {
      "cell_type": "code",
      "metadata": {
        "id": "9I4lj-mgDnHk"
      },
      "source": [
        "! pip install gensim"
      ],
      "execution_count": null,
      "outputs": []
    },
    {
      "cell_type": "code",
      "metadata": {
        "id": "uz3kfvxamYBY"
      },
      "source": [
        "! pip install catboost"
      ],
      "execution_count": null,
      "outputs": []
    },
    {
      "cell_type": "code",
      "metadata": {
        "id": "afU1mR_vDEhU"
      },
      "source": [
        "import json\n",
        "import pandas as pd\n",
        "import re\n",
        "import gensim\n",
        "import logging\n",
        "import urllib.request\n",
        "import matplotlib.pyplot as plt\n",
        "import seaborn as sn\n",
        "\n",
        "from tqdm import tqdm\n",
        "from gensim.models import word2vec\n",
        "from catboost import CatBoostClassifier\n",
        "from sklearn.metrics import confusion_matrix"
      ],
      "execution_count": null,
      "outputs": []
    },
    {
      "cell_type": "code",
      "metadata": {
        "id": "ZgRqghN6nlwF"
      },
      "source": [
        "from sklearn.preprocessing import LabelEncoder\n",
        "\n",
        "lb_make = LabelEncoder()"
      ],
      "execution_count": null,
      "outputs": []
    },
    {
      "cell_type": "code",
      "metadata": {
        "id": "D0w7niYT7DFa"
      },
      "source": [
        "import warnings\n",
        "warnings.filterwarnings('ignore')"
      ],
      "execution_count": 62,
      "outputs": []
    },
    {
      "cell_type": "markdown",
      "metadata": {
        "id": "jOAi0bKVK6X1"
      },
      "source": [
        "# Работа с обучающим корпусом"
      ]
    },
    {
      "cell_type": "code",
      "metadata": {
        "id": "rDG5S6qs3MK2"
      },
      "source": [
        "with open('annotated_corpus_fixed+syntaxnet.json', 'r', encoding='utf-8') as f:\n",
        "    syntax = json.load(f)"
      ],
      "execution_count": null,
      "outputs": []
    },
    {
      "cell_type": "code",
      "metadata": {
        "id": "RX30omnVDMwJ",
        "outputId": "df994ed9-0b50-44bb-b1a1-3be6d5d393a1",
        "colab": {
          "base_uri": "https://localhost:8080/",
          "height": 35
        }
      },
      "source": [
        "length = 0\n",
        "for l in syntax:\n",
        "    length += len(l)\n",
        "print('Количество предложений в корпусе framebank+syntaxnet:', length)"
      ],
      "execution_count": null,
      "outputs": [
        {
          "output_type": "stream",
          "text": [
            "Количество предложений в корпусе framebank+syntaxnet: 322357\n"
          ],
          "name": "stdout"
        }
      ]
    },
    {
      "cell_type": "code",
      "metadata": {
        "id": "A2MoaYdGJUAu"
      },
      "source": [
        "framebank = pd.read_csv('framebank_anno_ex_items_fixed.txt', sep='\\t')"
      ],
      "execution_count": null,
      "outputs": []
    },
    {
      "cell_type": "code",
      "metadata": {
        "id": "3t3EBiZGqEa5",
        "outputId": "1c2cb70a-a69c-42c8-ec4d-cb29ea968f20",
        "colab": {
          "base_uri": "https://localhost:8080/",
          "height": 35
        }
      },
      "source": [
        "print('Количество уникальных конструкций в корпусе framebank:', len(framebank.ConstrIndex.unique()))"
      ],
      "execution_count": null,
      "outputs": [
        {
          "output_type": "stream",
          "text": [
            "Количество уникальных конструкций в корпусе framebank: 5565\n"
          ],
          "name": "stdout"
        }
      ]
    },
    {
      "cell_type": "code",
      "metadata": {
        "id": "lfw9tbgIFR5w",
        "outputId": "aaca4bca-2823-4cfd-af14-39922c875170",
        "colab": {
          "base_uri": "https://localhost:8080/",
          "height": 35
        }
      },
      "source": [
        "print('Количество примеров конструкций в корпусе framebank:', len(framebank.ExIndex.unique()))"
      ],
      "execution_count": null,
      "outputs": [
        {
          "output_type": "stream",
          "text": [
            "Количество примеров конструкций в корпусе framebank: 38476\n"
          ],
          "name": "stdout"
        }
      ]
    },
    {
      "cell_type": "markdown",
      "metadata": {
        "id": "VqTTyyZqFiVc"
      },
      "source": [
        "## Объединение информации из корпуса конструкций FrameBank и из корпуса с cинтаксической информацией SyntaxNet"
      ]
    },
    {
      "cell_type": "code",
      "metadata": {
        "id": "hR72lyrr3XLv"
      },
      "source": [
        "df = pd.DataFrame(columns=['ExIndex', 'Role', 'DepRel', 'SyntRank', 'HeadWord',\n",
        "                           'HeadLemma', 'HeadPos', 'HeadFeat'])\n",
        "\n",
        "for _, row in tqdm(framebank.iterrows()):\n",
        "    exindex = str(row['ExIndex'])\n",
        "    found = False\n",
        "    try:\n",
        "        synt = syntax[exindex]\n",
        "    except KeyError:\n",
        "        continue\n",
        "    length = len(syntax[exindex])\n",
        "    for i in range(length):\n",
        "        for word in syntax[exindex][i]:\n",
        "            if word['form'] == row['WordDep']:\n",
        "                if len(df) == 0 or df.loc[len(df)-1].HeadWord != word['form']:\n",
        "                    try:\n",
        "                        s = word['lemma']\n",
        "                    except KeyError:\n",
        "                        s = None\n",
        "                    df.loc[len(df)] = [row['ExIndex'], row['Role'], word['link_name'],\n",
        "                                       row['Rank'], word['form'], s, word['postag_p'], word['feat_p']]\n",
        "                found = True\n",
        "                break"
      ],
      "execution_count": null,
      "outputs": []
    },
    {
      "cell_type": "code",
      "metadata": {
        "id": "uIj3Bjd23nvT"
      },
      "source": [
        "df.to_csv('frames_plus_syntax.txt', sep='\\t')"
      ],
      "execution_count": null,
      "outputs": []
    },
    {
      "cell_type": "code",
      "metadata": {
        "id": "wkMP9JMjqoNo",
        "outputId": "49a9896e-2b8d-4da5-c3dc-e170ae910080",
        "colab": {
          "base_uri": "https://localhost:8080/",
          "height": 194
        }
      },
      "source": [
        "df.head()"
      ],
      "execution_count": null,
      "outputs": [
        {
          "output_type": "execute_result",
          "data": {
            "text/html": [
              "<div>\n",
              "<style scoped>\n",
              "    .dataframe tbody tr th:only-of-type {\n",
              "        vertical-align: middle;\n",
              "    }\n",
              "\n",
              "    .dataframe tbody tr th {\n",
              "        vertical-align: top;\n",
              "    }\n",
              "\n",
              "    .dataframe thead th {\n",
              "        text-align: right;\n",
              "    }\n",
              "</style>\n",
              "<table border=\"1\" class=\"dataframe\">\n",
              "  <thead>\n",
              "    <tr style=\"text-align: right;\">\n",
              "      <th></th>\n",
              "      <th>ExIndex</th>\n",
              "      <th>Role</th>\n",
              "      <th>DepRel</th>\n",
              "      <th>SyntRank</th>\n",
              "      <th>HeadWord</th>\n",
              "      <th>HeadLemma</th>\n",
              "      <th>HeadPos</th>\n",
              "      <th>HeadFeat</th>\n",
              "    </tr>\n",
              "  </thead>\n",
              "  <tbody>\n",
              "    <tr>\n",
              "      <th>0</th>\n",
              "      <td>35300</td>\n",
              "      <td>атрибут</td>\n",
              "      <td>dobj</td>\n",
              "      <td>Атрибут</td>\n",
              "      <td>скверные</td>\n",
              "      <td>скверный</td>\n",
              "      <td>ADJ</td>\n",
              "      <td>Case=Nom|Degree=Pos|Number=Plur|fPOS=ADJ++</td>\n",
              "    </tr>\n",
              "    <tr>\n",
              "      <th>1</th>\n",
              "      <td>35300</td>\n",
              "      <td>носитель признака</td>\n",
              "      <td>nsubj</td>\n",
              "      <td>Контролер согласования</td>\n",
              "      <td>зубы</td>\n",
              "      <td>зуб</td>\n",
              "      <td>NOUN</td>\n",
              "      <td>Animacy=Inan|Case=Nom|Gender=Masc|Number=Plur|...</td>\n",
              "    </tr>\n",
              "    <tr>\n",
              "      <th>2</th>\n",
              "      <td>35301</td>\n",
              "      <td>атрибут</td>\n",
              "      <td>conj</td>\n",
              "      <td>Атрибут</td>\n",
              "      <td>скверный</td>\n",
              "      <td>скверный</td>\n",
              "      <td>ADJ</td>\n",
              "      <td>Case=Nom|Degree=Pos|Gender=Masc|Number=Sing|fP...</td>\n",
              "    </tr>\n",
              "    <tr>\n",
              "      <th>3</th>\n",
              "      <td>35301</td>\n",
              "      <td>носитель признака</td>\n",
              "      <td>conj</td>\n",
              "      <td>Контролер согласования</td>\n",
              "      <td>дурак</td>\n",
              "      <td>дурак</td>\n",
              "      <td>NOUN</td>\n",
              "      <td>Animacy=Anim|Case=Nom|Gender=Masc|Number=Sing|...</td>\n",
              "    </tr>\n",
              "    <tr>\n",
              "      <th>4</th>\n",
              "      <td>32603</td>\n",
              "      <td>атрибут</td>\n",
              "      <td>amod</td>\n",
              "      <td>Атрибут</td>\n",
              "      <td>доступным</td>\n",
              "      <td>доступный</td>\n",
              "      <td>ADJ</td>\n",
              "      <td>Case=Dat|Degree=Pos|Number=Plur|fPOS=ADJ++</td>\n",
              "    </tr>\n",
              "  </tbody>\n",
              "</table>\n",
              "</div>"
            ],
            "text/plain": [
              "   ExIndex  ...                                           HeadFeat\n",
              "0    35300  ...         Case=Nom|Degree=Pos|Number=Plur|fPOS=ADJ++\n",
              "1    35300  ...  Animacy=Inan|Case=Nom|Gender=Masc|Number=Plur|...\n",
              "2    35301  ...  Case=Nom|Degree=Pos|Gender=Masc|Number=Sing|fP...\n",
              "3    35301  ...  Animacy=Anim|Case=Nom|Gender=Masc|Number=Sing|...\n",
              "4    32603  ...         Case=Dat|Degree=Pos|Number=Plur|fPOS=ADJ++\n",
              "\n",
              "[5 rows x 8 columns]"
            ]
          },
          "metadata": {
            "tags": []
          },
          "execution_count": 19
        }
      ]
    },
    {
      "cell_type": "code",
      "metadata": {
        "id": "wwDxlKIR3QsT"
      },
      "source": [
        "df['SyntRank'] = df['SyntRank'].apply(lambda x: str(x).lower())"
      ],
      "execution_count": null,
      "outputs": []
    },
    {
      "cell_type": "markdown",
      "metadata": {
        "id": "Xvnzaiz5GlxK"
      },
      "source": [
        "## Реорганизация данных относительно аргументов"
      ]
    },
    {
      "cell_type": "markdown",
      "metadata": {
        "id": "rL6DDll4LL6E"
      },
      "source": [
        "Информация о предикатах остается только в качестве признаков аргументов ('PredicateWord', 'PredicateLemma', 'PredicatePos', 'PredicateFeat')"
      ]
    },
    {
      "cell_type": "code",
      "metadata": {
        "id": "CqQcXPBv4tlE"
      },
      "source": [
        "df_res = pd.DataFrame(columns=['DepRel', 'SyntRank', 'HeadWord', 'HeadLemma', \n",
        "                               'HeadPos', 'HeadFeat', 'PredicateWord', \n",
        "                               'PredicateLemma', 'PredicatePos', 'PredicateFeat', 'Role'])\n",
        "\n",
        "for exindex in tqdm(df.ExIndex.unique()):\n",
        "    rows = df[df.ExIndex == exindex]\n",
        "    word, lemma, pos, feat = None, None, None, None\n",
        "    for row in rows.iterrows():\n",
        "        if row[1].SyntRank == 'Предикат':\n",
        "            word = row[1].HeadWord\n",
        "            lemma = row[1].HeadLemma\n",
        "            pos = row[1].HeadPos\n",
        "            feat = row[1].HeadFeat\n",
        "    for row in rows.iterrows():\n",
        "        if word == None:\n",
        "            df_res.loc[len(df_res)] = [row[1].DepRel, row[1].SyntRank, \n",
        "                                       row[1].HeadWord, row[1].HeadLemma, \n",
        "                                       row[1].HeadPos, row[1].HeadFeat,\n",
        "                                       word, lemma, pos, feat, row[1].Role]\n",
        "        elif row[1].SyntRank != 'Предикат':\n",
        "            df_res.loc[len(df_res)] = [row[1].DepRel, row[1].SyntRank, \n",
        "                                       row[1].HeadWord, row[1].HeadLemma, \n",
        "                                       row[1].HeadPos, row[1].HeadFeat,\n",
        "                                       word, lemma, pos, feat, row[1].Role]"
      ],
      "execution_count": null,
      "outputs": []
    },
    {
      "cell_type": "code",
      "metadata": {
        "id": "CIg0Nvt3fxCo"
      },
      "source": [
        "df_res.to_csv('data_arg_pred.txt', sep='\\t')"
      ],
      "execution_count": null,
      "outputs": []
    },
    {
      "cell_type": "code",
      "metadata": {
        "id": "dcxj8R1A4yKv",
        "outputId": "2a256247-102d-4f4e-98b0-52ae4e73b18d",
        "colab": {
          "base_uri": "https://localhost:8080/",
          "height": 194
        }
      },
      "source": [
        "df_res.head()"
      ],
      "execution_count": null,
      "outputs": [
        {
          "output_type": "execute_result",
          "data": {
            "text/html": [
              "<div>\n",
              "<style scoped>\n",
              "    .dataframe tbody tr th:only-of-type {\n",
              "        vertical-align: middle;\n",
              "    }\n",
              "\n",
              "    .dataframe tbody tr th {\n",
              "        vertical-align: top;\n",
              "    }\n",
              "\n",
              "    .dataframe thead th {\n",
              "        text-align: right;\n",
              "    }\n",
              "</style>\n",
              "<table border=\"1\" class=\"dataframe\">\n",
              "  <thead>\n",
              "    <tr style=\"text-align: right;\">\n",
              "      <th></th>\n",
              "      <th>DepRel</th>\n",
              "      <th>SyntRank</th>\n",
              "      <th>HeadWord</th>\n",
              "      <th>HeadLemma</th>\n",
              "      <th>HeadPos</th>\n",
              "      <th>HeadFeat</th>\n",
              "      <th>PredicateWord</th>\n",
              "      <th>PredicateLemma</th>\n",
              "      <th>PredicatePos</th>\n",
              "      <th>PredicateFeat</th>\n",
              "      <th>Role</th>\n",
              "    </tr>\n",
              "  </thead>\n",
              "  <tbody>\n",
              "    <tr>\n",
              "      <th>0</th>\n",
              "      <td>dobj</td>\n",
              "      <td>Атрибут</td>\n",
              "      <td>скверные</td>\n",
              "      <td>скверный</td>\n",
              "      <td>ADJ</td>\n",
              "      <td>Case=Nom|Degree=Pos|Number=Plur|fPOS=ADJ++</td>\n",
              "      <td>NaN</td>\n",
              "      <td>NaN</td>\n",
              "      <td>NaN</td>\n",
              "      <td>NaN</td>\n",
              "      <td>атрибут</td>\n",
              "    </tr>\n",
              "    <tr>\n",
              "      <th>1</th>\n",
              "      <td>nsubj</td>\n",
              "      <td>Контролер согласования</td>\n",
              "      <td>зубы</td>\n",
              "      <td>зуб</td>\n",
              "      <td>NOUN</td>\n",
              "      <td>Animacy=Inan|Case=Nom|Gender=Masc|Number=Plur|...</td>\n",
              "      <td>NaN</td>\n",
              "      <td>NaN</td>\n",
              "      <td>NaN</td>\n",
              "      <td>NaN</td>\n",
              "      <td>носитель признака</td>\n",
              "    </tr>\n",
              "    <tr>\n",
              "      <th>2</th>\n",
              "      <td>conj</td>\n",
              "      <td>Атрибут</td>\n",
              "      <td>скверный</td>\n",
              "      <td>скверный</td>\n",
              "      <td>ADJ</td>\n",
              "      <td>Case=Nom|Degree=Pos|Gender=Masc|Number=Sing|fP...</td>\n",
              "      <td>NaN</td>\n",
              "      <td>NaN</td>\n",
              "      <td>NaN</td>\n",
              "      <td>NaN</td>\n",
              "      <td>атрибут</td>\n",
              "    </tr>\n",
              "    <tr>\n",
              "      <th>3</th>\n",
              "      <td>conj</td>\n",
              "      <td>Контролер согласования</td>\n",
              "      <td>дурак</td>\n",
              "      <td>дурак</td>\n",
              "      <td>NOUN</td>\n",
              "      <td>Animacy=Anim|Case=Nom|Gender=Masc|Number=Sing|...</td>\n",
              "      <td>NaN</td>\n",
              "      <td>NaN</td>\n",
              "      <td>NaN</td>\n",
              "      <td>NaN</td>\n",
              "      <td>носитель признака</td>\n",
              "    </tr>\n",
              "    <tr>\n",
              "      <th>4</th>\n",
              "      <td>amod</td>\n",
              "      <td>Атрибут</td>\n",
              "      <td>доступным</td>\n",
              "      <td>доступный</td>\n",
              "      <td>ADJ</td>\n",
              "      <td>Case=Dat|Degree=Pos|Number=Plur|fPOS=ADJ++</td>\n",
              "      <td>NaN</td>\n",
              "      <td>NaN</td>\n",
              "      <td>NaN</td>\n",
              "      <td>NaN</td>\n",
              "      <td>атрибут</td>\n",
              "    </tr>\n",
              "  </tbody>\n",
              "</table>\n",
              "</div>"
            ],
            "text/plain": [
              "  DepRel                SyntRank  ... PredicateFeat               Role\n",
              "0   dobj                 Атрибут  ...           NaN            атрибут\n",
              "1  nsubj  Контролер согласования  ...           NaN  носитель признака\n",
              "2   conj                 Атрибут  ...           NaN            атрибут\n",
              "3   conj  Контролер согласования  ...           NaN  носитель признака\n",
              "4   amod                 Атрибут  ...           NaN            атрибут\n",
              "\n",
              "[5 rows x 11 columns]"
            ]
          },
          "metadata": {
            "tags": []
          },
          "execution_count": 31
        }
      ]
    },
    {
      "cell_type": "code",
      "metadata": {
        "id": "rpp69iReLiXQ",
        "outputId": "bd178835-bcf4-4861-a540-c76b19b6a64e",
        "colab": {
          "base_uri": "https://localhost:8080/",
          "height": 35
        }
      },
      "source": [
        "print('Количество примеров, для которых не была определена '\\\n",
        "        'семантическая роль в корпусе:', len(df_res[df_res.Role == '-']))\n",
        "df_res = df_res.drop(df_res[df_res.Role == '-'].index)"
      ],
      "execution_count": null,
      "outputs": [
        {
          "output_type": "stream",
          "text": [
            "Количество примеров, для которых не была определена семантическая роль в корпусе: 3554\n"
          ],
          "name": "stdout"
        }
      ]
    },
    {
      "cell_type": "markdown",
      "metadata": {
        "id": "CHdeSeZBSun1"
      },
      "source": [
        "**Частотный список ролей в обучающем корпусе:**"
      ]
    },
    {
      "cell_type": "code",
      "metadata": {
        "id": "dJUlHypJH6bt"
      },
      "source": [
        "freqs = df_res.groupby(['Role']).size().apply(lambda x: x/len(df_res)).to_frame('Frequency').sort_values('Frequency', ascending=False)"
      ],
      "execution_count": null,
      "outputs": []
    },
    {
      "cell_type": "code",
      "metadata": {
        "id": "CQhuF44BUIfY",
        "outputId": "ddea98af-4c36-41ee-bd34-4f531426a5d2",
        "colab": {
          "base_uri": "https://localhost:8080/",
          "height": 516
        }
      },
      "source": [
        "freqs[:15]"
      ],
      "execution_count": null,
      "outputs": [
        {
          "output_type": "execute_result",
          "data": {
            "text/html": [
              "<div>\n",
              "<style scoped>\n",
              "    .dataframe tbody tr th:only-of-type {\n",
              "        vertical-align: middle;\n",
              "    }\n",
              "\n",
              "    .dataframe tbody tr th {\n",
              "        vertical-align: top;\n",
              "    }\n",
              "\n",
              "    .dataframe thead th {\n",
              "        text-align: right;\n",
              "    }\n",
              "</style>\n",
              "<table border=\"1\" class=\"dataframe\">\n",
              "  <thead>\n",
              "    <tr style=\"text-align: right;\">\n",
              "      <th></th>\n",
              "      <th>Frequency</th>\n",
              "    </tr>\n",
              "    <tr>\n",
              "      <th>Role</th>\n",
              "      <th></th>\n",
              "    </tr>\n",
              "  </thead>\n",
              "  <tbody>\n",
              "    <tr>\n",
              "      <th>агенс</th>\n",
              "      <td>0.127253</td>\n",
              "    </tr>\n",
              "    <tr>\n",
              "      <th>пациенс</th>\n",
              "      <td>0.108634</td>\n",
              "    </tr>\n",
              "    <tr>\n",
              "      <th>тема</th>\n",
              "      <td>0.073570</td>\n",
              "    </tr>\n",
              "    <tr>\n",
              "      <th>субъект перемещения</th>\n",
              "      <td>0.061703</td>\n",
              "    </tr>\n",
              "    <tr>\n",
              "      <th>субъект психологического состояния</th>\n",
              "      <td>0.060183</td>\n",
              "    </tr>\n",
              "    <tr>\n",
              "      <th>говорящий</th>\n",
              "      <td>0.047258</td>\n",
              "    </tr>\n",
              "    <tr>\n",
              "      <th>причина</th>\n",
              "      <td>0.037449</td>\n",
              "    </tr>\n",
              "    <tr>\n",
              "      <th>содержание высказывания</th>\n",
              "      <td>0.035448</td>\n",
              "    </tr>\n",
              "    <tr>\n",
              "      <th>содержание действия</th>\n",
              "      <td>0.031467</td>\n",
              "    </tr>\n",
              "    <tr>\n",
              "      <th>пациенс перемещения</th>\n",
              "      <td>0.028274</td>\n",
              "    </tr>\n",
              "    <tr>\n",
              "      <th>содержание мысли</th>\n",
              "      <td>0.026966</td>\n",
              "    </tr>\n",
              "    <tr>\n",
              "      <th>результат</th>\n",
              "      <td>0.021600</td>\n",
              "    </tr>\n",
              "    <tr>\n",
              "      <th>субъект ментального состояния</th>\n",
              "      <td>0.021254</td>\n",
              "    </tr>\n",
              "    <tr>\n",
              "      <th>стимул</th>\n",
              "      <td>0.021215</td>\n",
              "    </tr>\n",
              "    <tr>\n",
              "      <th>адресат</th>\n",
              "      <td>0.017618</td>\n",
              "    </tr>\n",
              "  </tbody>\n",
              "</table>\n",
              "</div>"
            ],
            "text/plain": [
              "                                    Frequency\n",
              "Role                                         \n",
              "агенс                                0.127253\n",
              "пациенс                              0.108634\n",
              "тема                                 0.073570\n",
              "субъект перемещения                  0.061703\n",
              "субъект психологического состояния   0.060183\n",
              "говорящий                            0.047258\n",
              "причина                              0.037449\n",
              "содержание высказывания              0.035448\n",
              "содержание действия                  0.031467\n",
              "пациенс перемещения                  0.028274\n",
              "содержание мысли                     0.026966\n",
              "результат                            0.021600\n",
              "субъект ментального состояния        0.021254\n",
              "стимул                               0.021215\n",
              "адресат                              0.017618"
            ]
          },
          "metadata": {
            "tags": []
          },
          "execution_count": 10
        }
      ]
    },
    {
      "cell_type": "code",
      "metadata": {
        "id": "6spPOc3vT_pP"
      },
      "source": [
        "popular = list(freqs[:10].index)"
      ],
      "execution_count": null,
      "outputs": []
    },
    {
      "cell_type": "markdown",
      "metadata": {
        "id": "L5N4aKsxKhKx"
      },
      "source": [
        "## Разбиение грамматических признаков"
      ]
    },
    {
      "cell_type": "markdown",
      "metadata": {
        "id": "K23AejV5La5Y"
      },
      "source": [
        "'HeadFeat' и 'PredicateFeat' каждый разбиваются на отдельные признаки 'Case', 'Degree', 'Number', 'Animacy', 'Gender', 'fPOS', 'Aspect', 'Tense', 'VerbForm', 'Voice', 'Person', 'Polarity', 'Mood',  'Variant' ('None' для отсутствующих категорий)"
      ]
    },
    {
      "cell_type": "code",
      "metadata": {
        "id": "_6T8YKjdzhVF"
      },
      "source": [
        "k = ['Case', 'Degree', 'Number', 'Animacy', 'Gender', 'fPOS', 'Aspect', 'Tense',\n",
        "     'VerbForm', 'Voice', 'Person', 'Polarity', 'Mood',  'Variant']\n",
        "\n",
        "def split_features(feats):\n",
        "    d = dict.fromkeys(k, 'None')\n",
        "    if feats != 'nan' and feats != '_':\n",
        "        for feat in feats.split('|'):\n",
        "            d[feat.split('=')[0]] = feat.split('=')[1]\n",
        "    return ' '.join(list(d.values()))"
      ],
      "execution_count": null,
      "outputs": []
    },
    {
      "cell_type": "code",
      "metadata": {
        "id": "h49Ia512049B"
      },
      "source": [
        "df_res['HeadFeatSplit'] = df_res['HeadFeat'].apply(lambda x: split_features(str(x)))\n",
        "df_res['PredicateFeatSplit'] = df_res['PredicateFeat'].apply(lambda x: split_features(str(x)))\n",
        "\n",
        "df_res[k] = df_res.HeadFeatSplit.str.split(expand=True)\n",
        "df_res[['P'+feat for feat in k]] = df_res.PredicateFeatSplit.str.split(expand=True)"
      ],
      "execution_count": null,
      "outputs": []
    },
    {
      "cell_type": "markdown",
      "metadata": {
        "id": "ZdIog0FBMKyH"
      },
      "source": [
        "## Получение эмбеддингов"
      ]
    },
    {
      "cell_type": "markdown",
      "metadata": {
        "id": "iz3ShXirMPEV"
      },
      "source": [
        "С помощью предобученной модели с RusVectores <https://rusvectores.org/ru/models/> **ruwikiruscorpora_upos_skipgram_300_2_2019**"
      ]
    },
    {
      "cell_type": "code",
      "metadata": {
        "id": "zbC9MmVmTIrM"
      },
      "source": [
        "urllib.request.urlretrieve(\"http://vectors.nlpl.eu/repository/20/182.zip\", \"182.zip\")"
      ],
      "execution_count": null,
      "outputs": []
    },
    {
      "cell_type": "code",
      "metadata": {
        "id": "9t5j2LbNDafg"
      },
      "source": [
        "! unzip 182.zip"
      ],
      "execution_count": null,
      "outputs": []
    },
    {
      "cell_type": "code",
      "metadata": {
        "id": "QsWEgr3BWlUD"
      },
      "source": [
        "m = 'model.bin'\n",
        "\n",
        "model = gensim.models.KeyedVectors.load_word2vec_format(m, binary=True)"
      ],
      "execution_count": null,
      "outputs": []
    },
    {
      "cell_type": "code",
      "metadata": {
        "id": "WxEjVVpqeLED"
      },
      "source": [
        "import numpy as np\n",
        "\n",
        "def vectorize(word, pos):\n",
        "    s = str(word) + '_' + str(pos)\n",
        "    if s in model:\n",
        "        return np.array(model[s])\n",
        "    else:\n",
        "        return np.random.rand(300)"
      ],
      "execution_count": null,
      "outputs": []
    },
    {
      "cell_type": "code",
      "metadata": {
        "id": "4Sr3m3h9gi6E"
      },
      "source": [
        "matrix = df_res.apply(lambda x: vectorize(x['HeadLemma'], x['HeadPos']), axis=1, result_type='expand')\n",
        "matrix_2 = df_res.apply(lambda x: vectorize(x['PredicateLemma'], x['PredicatePos']), axis=1, result_type='expand')\n",
        "matrices = pd.concat([matrix, matrix_2], axis=1, ignore_index=True)\n",
        "\n",
        "df_final = pd.concat([df_res, matrices], axis=1).drop(['HeadWord', 'HeadLemma',\n",
        "                                                       'PredicateWord', 'PredicateLemma',\n",
        "                                                       'HeadFeatSplit', 'PredicateFeatSplit'], axis=1)"
      ],
      "execution_count": 75,
      "outputs": []
    },
    {
      "cell_type": "code",
      "metadata": {
        "id": "U9yXYyG5pDIz"
      },
      "source": [
        "df_final['SyntRank'] = df_final['SyntRank'].apply(lambda x: str.lower(str(x)))"
      ],
      "execution_count": 76,
      "outputs": []
    },
    {
      "cell_type": "code",
      "metadata": {
        "id": "EPfiPJ9tMBBN",
        "outputId": "0b9ad569-9513-4f34-dc2f-5fb3baa4c50f",
        "colab": {
          "base_uri": "https://localhost:8080/",
          "height": 277
        }
      },
      "source": [
        "df_final.head()"
      ],
      "execution_count": 77,
      "outputs": [
        {
          "output_type": "execute_result",
          "data": {
            "text/html": [
              "<div>\n",
              "<style scoped>\n",
              "    .dataframe tbody tr th:only-of-type {\n",
              "        vertical-align: middle;\n",
              "    }\n",
              "\n",
              "    .dataframe tbody tr th {\n",
              "        vertical-align: top;\n",
              "    }\n",
              "\n",
              "    .dataframe thead th {\n",
              "        text-align: right;\n",
              "    }\n",
              "</style>\n",
              "<table border=\"1\" class=\"dataframe\">\n",
              "  <thead>\n",
              "    <tr style=\"text-align: right;\">\n",
              "      <th></th>\n",
              "      <th>DepRel</th>\n",
              "      <th>SyntRank</th>\n",
              "      <th>HeadPos</th>\n",
              "      <th>HeadFeat</th>\n",
              "      <th>PredicatePos</th>\n",
              "      <th>PredicateFeat</th>\n",
              "      <th>Role</th>\n",
              "      <th>Case</th>\n",
              "      <th>Degree</th>\n",
              "      <th>Number</th>\n",
              "      <th>Animacy</th>\n",
              "      <th>Gender</th>\n",
              "      <th>fPOS</th>\n",
              "      <th>Aspect</th>\n",
              "      <th>Tense</th>\n",
              "      <th>VerbForm</th>\n",
              "      <th>Voice</th>\n",
              "      <th>Person</th>\n",
              "      <th>Polarity</th>\n",
              "      <th>Mood</th>\n",
              "      <th>Variant</th>\n",
              "      <th>PCase</th>\n",
              "      <th>PDegree</th>\n",
              "      <th>PNumber</th>\n",
              "      <th>PAnimacy</th>\n",
              "      <th>PGender</th>\n",
              "      <th>PfPOS</th>\n",
              "      <th>PAspect</th>\n",
              "      <th>PTense</th>\n",
              "      <th>PVerbForm</th>\n",
              "      <th>PVoice</th>\n",
              "      <th>PPerson</th>\n",
              "      <th>PPolarity</th>\n",
              "      <th>PMood</th>\n",
              "      <th>PVariant</th>\n",
              "      <th>0</th>\n",
              "      <th>1</th>\n",
              "      <th>2</th>\n",
              "      <th>3</th>\n",
              "      <th>4</th>\n",
              "      <th>...</th>\n",
              "      <th>560</th>\n",
              "      <th>561</th>\n",
              "      <th>562</th>\n",
              "      <th>563</th>\n",
              "      <th>564</th>\n",
              "      <th>565</th>\n",
              "      <th>566</th>\n",
              "      <th>567</th>\n",
              "      <th>568</th>\n",
              "      <th>569</th>\n",
              "      <th>570</th>\n",
              "      <th>571</th>\n",
              "      <th>572</th>\n",
              "      <th>573</th>\n",
              "      <th>574</th>\n",
              "      <th>575</th>\n",
              "      <th>576</th>\n",
              "      <th>577</th>\n",
              "      <th>578</th>\n",
              "      <th>579</th>\n",
              "      <th>580</th>\n",
              "      <th>581</th>\n",
              "      <th>582</th>\n",
              "      <th>583</th>\n",
              "      <th>584</th>\n",
              "      <th>585</th>\n",
              "      <th>586</th>\n",
              "      <th>587</th>\n",
              "      <th>588</th>\n",
              "      <th>589</th>\n",
              "      <th>590</th>\n",
              "      <th>591</th>\n",
              "      <th>592</th>\n",
              "      <th>593</th>\n",
              "      <th>594</th>\n",
              "      <th>595</th>\n",
              "      <th>596</th>\n",
              "      <th>597</th>\n",
              "      <th>598</th>\n",
              "      <th>599</th>\n",
              "    </tr>\n",
              "  </thead>\n",
              "  <tbody>\n",
              "    <tr>\n",
              "      <th>0</th>\n",
              "      <td>dobj</td>\n",
              "      <td>атрибут</td>\n",
              "      <td>ADJ</td>\n",
              "      <td>Case=Nom|Degree=Pos|Number=Plur|fPOS=ADJ++</td>\n",
              "      <td>NaN</td>\n",
              "      <td>NaN</td>\n",
              "      <td>атрибут</td>\n",
              "      <td>Nom</td>\n",
              "      <td>Pos</td>\n",
              "      <td>Plur</td>\n",
              "      <td>None</td>\n",
              "      <td>None</td>\n",
              "      <td>ADJ++</td>\n",
              "      <td>None</td>\n",
              "      <td>None</td>\n",
              "      <td>None</td>\n",
              "      <td>None</td>\n",
              "      <td>None</td>\n",
              "      <td>None</td>\n",
              "      <td>None</td>\n",
              "      <td>None</td>\n",
              "      <td>None</td>\n",
              "      <td>None</td>\n",
              "      <td>None</td>\n",
              "      <td>None</td>\n",
              "      <td>None</td>\n",
              "      <td>None</td>\n",
              "      <td>None</td>\n",
              "      <td>None</td>\n",
              "      <td>None</td>\n",
              "      <td>None</td>\n",
              "      <td>None</td>\n",
              "      <td>None</td>\n",
              "      <td>None</td>\n",
              "      <td>None</td>\n",
              "      <td>-0.346957</td>\n",
              "      <td>-0.122209</td>\n",
              "      <td>0.041762</td>\n",
              "      <td>0.023349</td>\n",
              "      <td>0.051260</td>\n",
              "      <td>...</td>\n",
              "      <td>0.854405</td>\n",
              "      <td>0.590051</td>\n",
              "      <td>0.067062</td>\n",
              "      <td>0.874309</td>\n",
              "      <td>0.732609</td>\n",
              "      <td>0.671933</td>\n",
              "      <td>0.638149</td>\n",
              "      <td>0.371395</td>\n",
              "      <td>0.789746</td>\n",
              "      <td>0.053399</td>\n",
              "      <td>0.685084</td>\n",
              "      <td>0.331109</td>\n",
              "      <td>0.731145</td>\n",
              "      <td>0.378030</td>\n",
              "      <td>0.910337</td>\n",
              "      <td>0.955028</td>\n",
              "      <td>0.729638</td>\n",
              "      <td>0.409945</td>\n",
              "      <td>0.421645</td>\n",
              "      <td>0.330400</td>\n",
              "      <td>0.589374</td>\n",
              "      <td>0.669060</td>\n",
              "      <td>0.055750</td>\n",
              "      <td>0.178540</td>\n",
              "      <td>0.500182</td>\n",
              "      <td>0.592438</td>\n",
              "      <td>0.130551</td>\n",
              "      <td>0.646444</td>\n",
              "      <td>0.409484</td>\n",
              "      <td>0.618769</td>\n",
              "      <td>0.204115</td>\n",
              "      <td>0.893315</td>\n",
              "      <td>0.668532</td>\n",
              "      <td>0.407017</td>\n",
              "      <td>0.532144</td>\n",
              "      <td>0.232745</td>\n",
              "      <td>0.893788</td>\n",
              "      <td>0.266273</td>\n",
              "      <td>0.072944</td>\n",
              "      <td>0.801592</td>\n",
              "    </tr>\n",
              "    <tr>\n",
              "      <th>1</th>\n",
              "      <td>nsubj</td>\n",
              "      <td>контролер согласования</td>\n",
              "      <td>NOUN</td>\n",
              "      <td>Animacy=Inan|Case=Nom|Gender=Masc|Number=Plur|...</td>\n",
              "      <td>NaN</td>\n",
              "      <td>NaN</td>\n",
              "      <td>носитель признака</td>\n",
              "      <td>Nom</td>\n",
              "      <td>None</td>\n",
              "      <td>Plur</td>\n",
              "      <td>Inan</td>\n",
              "      <td>Masc</td>\n",
              "      <td>NOUN++</td>\n",
              "      <td>None</td>\n",
              "      <td>None</td>\n",
              "      <td>None</td>\n",
              "      <td>None</td>\n",
              "      <td>None</td>\n",
              "      <td>None</td>\n",
              "      <td>None</td>\n",
              "      <td>None</td>\n",
              "      <td>None</td>\n",
              "      <td>None</td>\n",
              "      <td>None</td>\n",
              "      <td>None</td>\n",
              "      <td>None</td>\n",
              "      <td>None</td>\n",
              "      <td>None</td>\n",
              "      <td>None</td>\n",
              "      <td>None</td>\n",
              "      <td>None</td>\n",
              "      <td>None</td>\n",
              "      <td>None</td>\n",
              "      <td>None</td>\n",
              "      <td>None</td>\n",
              "      <td>-0.298355</td>\n",
              "      <td>-0.409385</td>\n",
              "      <td>0.013704</td>\n",
              "      <td>-0.232724</td>\n",
              "      <td>0.234828</td>\n",
              "      <td>...</td>\n",
              "      <td>0.143442</td>\n",
              "      <td>0.095101</td>\n",
              "      <td>0.971453</td>\n",
              "      <td>0.758151</td>\n",
              "      <td>0.190113</td>\n",
              "      <td>0.800005</td>\n",
              "      <td>0.056153</td>\n",
              "      <td>0.174567</td>\n",
              "      <td>0.712199</td>\n",
              "      <td>0.086012</td>\n",
              "      <td>0.061277</td>\n",
              "      <td>0.608335</td>\n",
              "      <td>0.966360</td>\n",
              "      <td>0.972987</td>\n",
              "      <td>0.003750</td>\n",
              "      <td>0.571878</td>\n",
              "      <td>0.289892</td>\n",
              "      <td>0.087618</td>\n",
              "      <td>0.249408</td>\n",
              "      <td>0.557717</td>\n",
              "      <td>0.116774</td>\n",
              "      <td>0.848775</td>\n",
              "      <td>0.161416</td>\n",
              "      <td>0.760526</td>\n",
              "      <td>0.746938</td>\n",
              "      <td>0.542629</td>\n",
              "      <td>0.946277</td>\n",
              "      <td>0.604573</td>\n",
              "      <td>0.697106</td>\n",
              "      <td>0.093994</td>\n",
              "      <td>0.852219</td>\n",
              "      <td>0.079117</td>\n",
              "      <td>0.910138</td>\n",
              "      <td>0.999757</td>\n",
              "      <td>0.721299</td>\n",
              "      <td>0.280605</td>\n",
              "      <td>0.331715</td>\n",
              "      <td>0.382788</td>\n",
              "      <td>0.517585</td>\n",
              "      <td>0.608613</td>\n",
              "    </tr>\n",
              "    <tr>\n",
              "      <th>2</th>\n",
              "      <td>conj</td>\n",
              "      <td>атрибут</td>\n",
              "      <td>ADJ</td>\n",
              "      <td>Case=Nom|Degree=Pos|Gender=Masc|Number=Sing|fP...</td>\n",
              "      <td>NaN</td>\n",
              "      <td>NaN</td>\n",
              "      <td>атрибут</td>\n",
              "      <td>Nom</td>\n",
              "      <td>Pos</td>\n",
              "      <td>Sing</td>\n",
              "      <td>None</td>\n",
              "      <td>Masc</td>\n",
              "      <td>ADJ++</td>\n",
              "      <td>None</td>\n",
              "      <td>None</td>\n",
              "      <td>None</td>\n",
              "      <td>None</td>\n",
              "      <td>None</td>\n",
              "      <td>None</td>\n",
              "      <td>None</td>\n",
              "      <td>None</td>\n",
              "      <td>None</td>\n",
              "      <td>None</td>\n",
              "      <td>None</td>\n",
              "      <td>None</td>\n",
              "      <td>None</td>\n",
              "      <td>None</td>\n",
              "      <td>None</td>\n",
              "      <td>None</td>\n",
              "      <td>None</td>\n",
              "      <td>None</td>\n",
              "      <td>None</td>\n",
              "      <td>None</td>\n",
              "      <td>None</td>\n",
              "      <td>None</td>\n",
              "      <td>-0.346957</td>\n",
              "      <td>-0.122209</td>\n",
              "      <td>0.041762</td>\n",
              "      <td>0.023349</td>\n",
              "      <td>0.051260</td>\n",
              "      <td>...</td>\n",
              "      <td>0.558720</td>\n",
              "      <td>0.680847</td>\n",
              "      <td>0.303274</td>\n",
              "      <td>0.017233</td>\n",
              "      <td>0.875348</td>\n",
              "      <td>0.582395</td>\n",
              "      <td>0.818884</td>\n",
              "      <td>0.122756</td>\n",
              "      <td>0.081069</td>\n",
              "      <td>0.509704</td>\n",
              "      <td>0.663217</td>\n",
              "      <td>0.575918</td>\n",
              "      <td>0.875134</td>\n",
              "      <td>0.148905</td>\n",
              "      <td>0.292343</td>\n",
              "      <td>0.619091</td>\n",
              "      <td>0.073174</td>\n",
              "      <td>0.308944</td>\n",
              "      <td>0.914200</td>\n",
              "      <td>0.147843</td>\n",
              "      <td>0.003987</td>\n",
              "      <td>0.080700</td>\n",
              "      <td>0.465426</td>\n",
              "      <td>0.686951</td>\n",
              "      <td>0.352742</td>\n",
              "      <td>0.520177</td>\n",
              "      <td>0.195232</td>\n",
              "      <td>0.740362</td>\n",
              "      <td>0.673791</td>\n",
              "      <td>0.654216</td>\n",
              "      <td>0.693288</td>\n",
              "      <td>0.665049</td>\n",
              "      <td>0.915205</td>\n",
              "      <td>0.870663</td>\n",
              "      <td>0.728984</td>\n",
              "      <td>0.511575</td>\n",
              "      <td>0.697439</td>\n",
              "      <td>0.286469</td>\n",
              "      <td>0.676455</td>\n",
              "      <td>0.243926</td>\n",
              "    </tr>\n",
              "    <tr>\n",
              "      <th>3</th>\n",
              "      <td>conj</td>\n",
              "      <td>контролер согласования</td>\n",
              "      <td>NOUN</td>\n",
              "      <td>Animacy=Anim|Case=Nom|Gender=Masc|Number=Sing|...</td>\n",
              "      <td>NaN</td>\n",
              "      <td>NaN</td>\n",
              "      <td>носитель признака</td>\n",
              "      <td>Nom</td>\n",
              "      <td>None</td>\n",
              "      <td>Sing</td>\n",
              "      <td>Anim</td>\n",
              "      <td>Masc</td>\n",
              "      <td>NOUN++</td>\n",
              "      <td>None</td>\n",
              "      <td>None</td>\n",
              "      <td>None</td>\n",
              "      <td>None</td>\n",
              "      <td>None</td>\n",
              "      <td>None</td>\n",
              "      <td>None</td>\n",
              "      <td>None</td>\n",
              "      <td>None</td>\n",
              "      <td>None</td>\n",
              "      <td>None</td>\n",
              "      <td>None</td>\n",
              "      <td>None</td>\n",
              "      <td>None</td>\n",
              "      <td>None</td>\n",
              "      <td>None</td>\n",
              "      <td>None</td>\n",
              "      <td>None</td>\n",
              "      <td>None</td>\n",
              "      <td>None</td>\n",
              "      <td>None</td>\n",
              "      <td>None</td>\n",
              "      <td>0.088845</td>\n",
              "      <td>0.015245</td>\n",
              "      <td>-0.082374</td>\n",
              "      <td>-0.104430</td>\n",
              "      <td>0.009510</td>\n",
              "      <td>...</td>\n",
              "      <td>0.358182</td>\n",
              "      <td>0.542068</td>\n",
              "      <td>0.206414</td>\n",
              "      <td>0.302539</td>\n",
              "      <td>0.555854</td>\n",
              "      <td>0.989839</td>\n",
              "      <td>0.405460</td>\n",
              "      <td>0.486106</td>\n",
              "      <td>0.525027</td>\n",
              "      <td>0.787109</td>\n",
              "      <td>0.311629</td>\n",
              "      <td>0.887560</td>\n",
              "      <td>0.576048</td>\n",
              "      <td>0.397196</td>\n",
              "      <td>0.343377</td>\n",
              "      <td>0.800954</td>\n",
              "      <td>0.383498</td>\n",
              "      <td>0.072044</td>\n",
              "      <td>0.639387</td>\n",
              "      <td>0.307955</td>\n",
              "      <td>0.765007</td>\n",
              "      <td>0.418273</td>\n",
              "      <td>0.445309</td>\n",
              "      <td>0.058419</td>\n",
              "      <td>0.631618</td>\n",
              "      <td>0.759543</td>\n",
              "      <td>0.238696</td>\n",
              "      <td>0.484908</td>\n",
              "      <td>0.805737</td>\n",
              "      <td>0.834601</td>\n",
              "      <td>0.780127</td>\n",
              "      <td>0.030312</td>\n",
              "      <td>0.570560</td>\n",
              "      <td>0.609741</td>\n",
              "      <td>0.047581</td>\n",
              "      <td>0.371611</td>\n",
              "      <td>0.506360</td>\n",
              "      <td>0.257980</td>\n",
              "      <td>0.611160</td>\n",
              "      <td>0.678548</td>\n",
              "    </tr>\n",
              "    <tr>\n",
              "      <th>4</th>\n",
              "      <td>amod</td>\n",
              "      <td>атрибут</td>\n",
              "      <td>ADJ</td>\n",
              "      <td>Case=Dat|Degree=Pos|Number=Plur|fPOS=ADJ++</td>\n",
              "      <td>NaN</td>\n",
              "      <td>NaN</td>\n",
              "      <td>атрибут</td>\n",
              "      <td>Dat</td>\n",
              "      <td>Pos</td>\n",
              "      <td>Plur</td>\n",
              "      <td>None</td>\n",
              "      <td>None</td>\n",
              "      <td>ADJ++</td>\n",
              "      <td>None</td>\n",
              "      <td>None</td>\n",
              "      <td>None</td>\n",
              "      <td>None</td>\n",
              "      <td>None</td>\n",
              "      <td>None</td>\n",
              "      <td>None</td>\n",
              "      <td>None</td>\n",
              "      <td>None</td>\n",
              "      <td>None</td>\n",
              "      <td>None</td>\n",
              "      <td>None</td>\n",
              "      <td>None</td>\n",
              "      <td>None</td>\n",
              "      <td>None</td>\n",
              "      <td>None</td>\n",
              "      <td>None</td>\n",
              "      <td>None</td>\n",
              "      <td>None</td>\n",
              "      <td>None</td>\n",
              "      <td>None</td>\n",
              "      <td>None</td>\n",
              "      <td>0.374267</td>\n",
              "      <td>-0.131094</td>\n",
              "      <td>0.304099</td>\n",
              "      <td>-0.486015</td>\n",
              "      <td>-0.042552</td>\n",
              "      <td>...</td>\n",
              "      <td>0.530656</td>\n",
              "      <td>0.152995</td>\n",
              "      <td>0.832651</td>\n",
              "      <td>0.861681</td>\n",
              "      <td>0.053286</td>\n",
              "      <td>0.488224</td>\n",
              "      <td>0.111015</td>\n",
              "      <td>0.882416</td>\n",
              "      <td>0.836782</td>\n",
              "      <td>0.813956</td>\n",
              "      <td>0.998856</td>\n",
              "      <td>0.635179</td>\n",
              "      <td>0.960186</td>\n",
              "      <td>0.744077</td>\n",
              "      <td>0.060024</td>\n",
              "      <td>0.422104</td>\n",
              "      <td>0.631841</td>\n",
              "      <td>0.443085</td>\n",
              "      <td>0.387311</td>\n",
              "      <td>0.264894</td>\n",
              "      <td>0.548495</td>\n",
              "      <td>0.791192</td>\n",
              "      <td>0.252804</td>\n",
              "      <td>0.101787</td>\n",
              "      <td>0.722823</td>\n",
              "      <td>0.993077</td>\n",
              "      <td>0.241733</td>\n",
              "      <td>0.430290</td>\n",
              "      <td>0.442509</td>\n",
              "      <td>0.041672</td>\n",
              "      <td>0.346733</td>\n",
              "      <td>0.638732</td>\n",
              "      <td>0.982961</td>\n",
              "      <td>0.552926</td>\n",
              "      <td>0.374383</td>\n",
              "      <td>0.092812</td>\n",
              "      <td>0.031983</td>\n",
              "      <td>0.382825</td>\n",
              "      <td>0.193317</td>\n",
              "      <td>0.900728</td>\n",
              "    </tr>\n",
              "  </tbody>\n",
              "</table>\n",
              "<p>5 rows × 635 columns</p>\n",
              "</div>"
            ],
            "text/plain": [
              "  DepRel                SyntRank HeadPos  ...       597       598       599\n",
              "0   dobj                 атрибут     ADJ  ...  0.266273  0.072944  0.801592\n",
              "1  nsubj  контролер согласования    NOUN  ...  0.382788  0.517585  0.608613\n",
              "2   conj                 атрибут     ADJ  ...  0.286469  0.676455  0.243926\n",
              "3   conj  контролер согласования    NOUN  ...  0.257980  0.611160  0.678548\n",
              "4   amod                 атрибут     ADJ  ...  0.382825  0.193317  0.900728\n",
              "\n",
              "[5 rows x 635 columns]"
            ]
          },
          "metadata": {
            "tags": []
          },
          "execution_count": 77
        }
      ]
    },
    {
      "cell_type": "markdown",
      "metadata": {
        "id": "AXQgIaGQ8XZ3"
      },
      "source": [
        "Матрица корреляции признаков"
      ]
    },
    {
      "cell_type": "code",
      "metadata": {
        "id": "KnyIBz0oOOtt"
      },
      "source": [
        "df_encode = df_final.copy()"
      ],
      "execution_count": 78,
      "outputs": []
    },
    {
      "cell_type": "code",
      "metadata": {
        "id": "RIX8V0vWof51"
      },
      "source": [
        "for name in ['DepRel', 'SyntRank', 'HeadPos', 'HeadFeat', 'PredicatePos', 'PredicateFeat'] + k + ['P'+feat for feat in k]:\n",
        "    df_encode[name] = lb_make.fit_transform(df_encode[name].fillna(''))"
      ],
      "execution_count": 79,
      "outputs": []
    },
    {
      "cell_type": "code",
      "metadata": {
        "id": "z8mWIrmQqLNY",
        "outputId": "d556c5b0-cea0-4ac1-c8a9-b9ef5576d05d",
        "colab": {
          "base_uri": "https://localhost:8080/",
          "height": 277
        }
      },
      "source": [
        "df_encode.head()"
      ],
      "execution_count": 80,
      "outputs": [
        {
          "output_type": "execute_result",
          "data": {
            "text/html": [
              "<div>\n",
              "<style scoped>\n",
              "    .dataframe tbody tr th:only-of-type {\n",
              "        vertical-align: middle;\n",
              "    }\n",
              "\n",
              "    .dataframe tbody tr th {\n",
              "        vertical-align: top;\n",
              "    }\n",
              "\n",
              "    .dataframe thead th {\n",
              "        text-align: right;\n",
              "    }\n",
              "</style>\n",
              "<table border=\"1\" class=\"dataframe\">\n",
              "  <thead>\n",
              "    <tr style=\"text-align: right;\">\n",
              "      <th></th>\n",
              "      <th>DepRel</th>\n",
              "      <th>SyntRank</th>\n",
              "      <th>HeadPos</th>\n",
              "      <th>HeadFeat</th>\n",
              "      <th>PredicatePos</th>\n",
              "      <th>PredicateFeat</th>\n",
              "      <th>Role</th>\n",
              "      <th>Case</th>\n",
              "      <th>Degree</th>\n",
              "      <th>Number</th>\n",
              "      <th>Animacy</th>\n",
              "      <th>Gender</th>\n",
              "      <th>fPOS</th>\n",
              "      <th>Aspect</th>\n",
              "      <th>Tense</th>\n",
              "      <th>VerbForm</th>\n",
              "      <th>Voice</th>\n",
              "      <th>Person</th>\n",
              "      <th>Polarity</th>\n",
              "      <th>Mood</th>\n",
              "      <th>Variant</th>\n",
              "      <th>PCase</th>\n",
              "      <th>PDegree</th>\n",
              "      <th>PNumber</th>\n",
              "      <th>PAnimacy</th>\n",
              "      <th>PGender</th>\n",
              "      <th>PfPOS</th>\n",
              "      <th>PAspect</th>\n",
              "      <th>PTense</th>\n",
              "      <th>PVerbForm</th>\n",
              "      <th>PVoice</th>\n",
              "      <th>PPerson</th>\n",
              "      <th>PPolarity</th>\n",
              "      <th>PMood</th>\n",
              "      <th>PVariant</th>\n",
              "      <th>0</th>\n",
              "      <th>1</th>\n",
              "      <th>2</th>\n",
              "      <th>3</th>\n",
              "      <th>4</th>\n",
              "      <th>...</th>\n",
              "      <th>560</th>\n",
              "      <th>561</th>\n",
              "      <th>562</th>\n",
              "      <th>563</th>\n",
              "      <th>564</th>\n",
              "      <th>565</th>\n",
              "      <th>566</th>\n",
              "      <th>567</th>\n",
              "      <th>568</th>\n",
              "      <th>569</th>\n",
              "      <th>570</th>\n",
              "      <th>571</th>\n",
              "      <th>572</th>\n",
              "      <th>573</th>\n",
              "      <th>574</th>\n",
              "      <th>575</th>\n",
              "      <th>576</th>\n",
              "      <th>577</th>\n",
              "      <th>578</th>\n",
              "      <th>579</th>\n",
              "      <th>580</th>\n",
              "      <th>581</th>\n",
              "      <th>582</th>\n",
              "      <th>583</th>\n",
              "      <th>584</th>\n",
              "      <th>585</th>\n",
              "      <th>586</th>\n",
              "      <th>587</th>\n",
              "      <th>588</th>\n",
              "      <th>589</th>\n",
              "      <th>590</th>\n",
              "      <th>591</th>\n",
              "      <th>592</th>\n",
              "      <th>593</th>\n",
              "      <th>594</th>\n",
              "      <th>595</th>\n",
              "      <th>596</th>\n",
              "      <th>597</th>\n",
              "      <th>598</th>\n",
              "      <th>599</th>\n",
              "    </tr>\n",
              "  </thead>\n",
              "  <tbody>\n",
              "    <tr>\n",
              "      <th>0</th>\n",
              "      <td>17</td>\n",
              "      <td>2</td>\n",
              "      <td>0</td>\n",
              "      <td>228</td>\n",
              "      <td>0</td>\n",
              "      <td>0</td>\n",
              "      <td>атрибут</td>\n",
              "      <td>5</td>\n",
              "      <td>2</td>\n",
              "      <td>1</td>\n",
              "      <td>2</td>\n",
              "      <td>3</td>\n",
              "      <td>0</td>\n",
              "      <td>1</td>\n",
              "      <td>1</td>\n",
              "      <td>2</td>\n",
              "      <td>1</td>\n",
              "      <td>3</td>\n",
              "      <td>0</td>\n",
              "      <td>2</td>\n",
              "      <td>1</td>\n",
              "      <td>6</td>\n",
              "      <td>1</td>\n",
              "      <td>0</td>\n",
              "      <td>2</td>\n",
              "      <td>3</td>\n",
              "      <td>8</td>\n",
              "      <td>1</td>\n",
              "      <td>1</td>\n",
              "      <td>2</td>\n",
              "      <td>1</td>\n",
              "      <td>3</td>\n",
              "      <td>0</td>\n",
              "      <td>2</td>\n",
              "      <td>1</td>\n",
              "      <td>-0.346957</td>\n",
              "      <td>-0.122209</td>\n",
              "      <td>0.041762</td>\n",
              "      <td>0.023349</td>\n",
              "      <td>0.051260</td>\n",
              "      <td>...</td>\n",
              "      <td>0.854405</td>\n",
              "      <td>0.590051</td>\n",
              "      <td>0.067062</td>\n",
              "      <td>0.874309</td>\n",
              "      <td>0.732609</td>\n",
              "      <td>0.671933</td>\n",
              "      <td>0.638149</td>\n",
              "      <td>0.371395</td>\n",
              "      <td>0.789746</td>\n",
              "      <td>0.053399</td>\n",
              "      <td>0.685084</td>\n",
              "      <td>0.331109</td>\n",
              "      <td>0.731145</td>\n",
              "      <td>0.378030</td>\n",
              "      <td>0.910337</td>\n",
              "      <td>0.955028</td>\n",
              "      <td>0.729638</td>\n",
              "      <td>0.409945</td>\n",
              "      <td>0.421645</td>\n",
              "      <td>0.330400</td>\n",
              "      <td>0.589374</td>\n",
              "      <td>0.669060</td>\n",
              "      <td>0.055750</td>\n",
              "      <td>0.178540</td>\n",
              "      <td>0.500182</td>\n",
              "      <td>0.592438</td>\n",
              "      <td>0.130551</td>\n",
              "      <td>0.646444</td>\n",
              "      <td>0.409484</td>\n",
              "      <td>0.618769</td>\n",
              "      <td>0.204115</td>\n",
              "      <td>0.893315</td>\n",
              "      <td>0.668532</td>\n",
              "      <td>0.407017</td>\n",
              "      <td>0.532144</td>\n",
              "      <td>0.232745</td>\n",
              "      <td>0.893788</td>\n",
              "      <td>0.266273</td>\n",
              "      <td>0.072944</td>\n",
              "      <td>0.801592</td>\n",
              "    </tr>\n",
              "    <tr>\n",
              "      <th>1</th>\n",
              "      <td>26</td>\n",
              "      <td>5</td>\n",
              "      <td>7</td>\n",
              "      <td>87</td>\n",
              "      <td>0</td>\n",
              "      <td>0</td>\n",
              "      <td>носитель признака</td>\n",
              "      <td>5</td>\n",
              "      <td>1</td>\n",
              "      <td>1</td>\n",
              "      <td>1</td>\n",
              "      <td>1</td>\n",
              "      <td>7</td>\n",
              "      <td>1</td>\n",
              "      <td>1</td>\n",
              "      <td>2</td>\n",
              "      <td>1</td>\n",
              "      <td>3</td>\n",
              "      <td>0</td>\n",
              "      <td>2</td>\n",
              "      <td>1</td>\n",
              "      <td>6</td>\n",
              "      <td>1</td>\n",
              "      <td>0</td>\n",
              "      <td>2</td>\n",
              "      <td>3</td>\n",
              "      <td>8</td>\n",
              "      <td>1</td>\n",
              "      <td>1</td>\n",
              "      <td>2</td>\n",
              "      <td>1</td>\n",
              "      <td>3</td>\n",
              "      <td>0</td>\n",
              "      <td>2</td>\n",
              "      <td>1</td>\n",
              "      <td>-0.298355</td>\n",
              "      <td>-0.409385</td>\n",
              "      <td>0.013704</td>\n",
              "      <td>-0.232724</td>\n",
              "      <td>0.234828</td>\n",
              "      <td>...</td>\n",
              "      <td>0.143442</td>\n",
              "      <td>0.095101</td>\n",
              "      <td>0.971453</td>\n",
              "      <td>0.758151</td>\n",
              "      <td>0.190113</td>\n",
              "      <td>0.800005</td>\n",
              "      <td>0.056153</td>\n",
              "      <td>0.174567</td>\n",
              "      <td>0.712199</td>\n",
              "      <td>0.086012</td>\n",
              "      <td>0.061277</td>\n",
              "      <td>0.608335</td>\n",
              "      <td>0.966360</td>\n",
              "      <td>0.972987</td>\n",
              "      <td>0.003750</td>\n",
              "      <td>0.571878</td>\n",
              "      <td>0.289892</td>\n",
              "      <td>0.087618</td>\n",
              "      <td>0.249408</td>\n",
              "      <td>0.557717</td>\n",
              "      <td>0.116774</td>\n",
              "      <td>0.848775</td>\n",
              "      <td>0.161416</td>\n",
              "      <td>0.760526</td>\n",
              "      <td>0.746938</td>\n",
              "      <td>0.542629</td>\n",
              "      <td>0.946277</td>\n",
              "      <td>0.604573</td>\n",
              "      <td>0.697106</td>\n",
              "      <td>0.093994</td>\n",
              "      <td>0.852219</td>\n",
              "      <td>0.079117</td>\n",
              "      <td>0.910138</td>\n",
              "      <td>0.999757</td>\n",
              "      <td>0.721299</td>\n",
              "      <td>0.280605</td>\n",
              "      <td>0.331715</td>\n",
              "      <td>0.382788</td>\n",
              "      <td>0.517585</td>\n",
              "      <td>0.608613</td>\n",
              "    </tr>\n",
              "    <tr>\n",
              "      <th>2</th>\n",
              "      <td>13</td>\n",
              "      <td>2</td>\n",
              "      <td>0</td>\n",
              "      <td>226</td>\n",
              "      <td>0</td>\n",
              "      <td>0</td>\n",
              "      <td>атрибут</td>\n",
              "      <td>5</td>\n",
              "      <td>2</td>\n",
              "      <td>2</td>\n",
              "      <td>2</td>\n",
              "      <td>1</td>\n",
              "      <td>0</td>\n",
              "      <td>1</td>\n",
              "      <td>1</td>\n",
              "      <td>2</td>\n",
              "      <td>1</td>\n",
              "      <td>3</td>\n",
              "      <td>0</td>\n",
              "      <td>2</td>\n",
              "      <td>1</td>\n",
              "      <td>6</td>\n",
              "      <td>1</td>\n",
              "      <td>0</td>\n",
              "      <td>2</td>\n",
              "      <td>3</td>\n",
              "      <td>8</td>\n",
              "      <td>1</td>\n",
              "      <td>1</td>\n",
              "      <td>2</td>\n",
              "      <td>1</td>\n",
              "      <td>3</td>\n",
              "      <td>0</td>\n",
              "      <td>2</td>\n",
              "      <td>1</td>\n",
              "      <td>-0.346957</td>\n",
              "      <td>-0.122209</td>\n",
              "      <td>0.041762</td>\n",
              "      <td>0.023349</td>\n",
              "      <td>0.051260</td>\n",
              "      <td>...</td>\n",
              "      <td>0.558720</td>\n",
              "      <td>0.680847</td>\n",
              "      <td>0.303274</td>\n",
              "      <td>0.017233</td>\n",
              "      <td>0.875348</td>\n",
              "      <td>0.582395</td>\n",
              "      <td>0.818884</td>\n",
              "      <td>0.122756</td>\n",
              "      <td>0.081069</td>\n",
              "      <td>0.509704</td>\n",
              "      <td>0.663217</td>\n",
              "      <td>0.575918</td>\n",
              "      <td>0.875134</td>\n",
              "      <td>0.148905</td>\n",
              "      <td>0.292343</td>\n",
              "      <td>0.619091</td>\n",
              "      <td>0.073174</td>\n",
              "      <td>0.308944</td>\n",
              "      <td>0.914200</td>\n",
              "      <td>0.147843</td>\n",
              "      <td>0.003987</td>\n",
              "      <td>0.080700</td>\n",
              "      <td>0.465426</td>\n",
              "      <td>0.686951</td>\n",
              "      <td>0.352742</td>\n",
              "      <td>0.520177</td>\n",
              "      <td>0.195232</td>\n",
              "      <td>0.740362</td>\n",
              "      <td>0.673791</td>\n",
              "      <td>0.654216</td>\n",
              "      <td>0.693288</td>\n",
              "      <td>0.665049</td>\n",
              "      <td>0.915205</td>\n",
              "      <td>0.870663</td>\n",
              "      <td>0.728984</td>\n",
              "      <td>0.511575</td>\n",
              "      <td>0.697439</td>\n",
              "      <td>0.286469</td>\n",
              "      <td>0.676455</td>\n",
              "      <td>0.243926</td>\n",
              "    </tr>\n",
              "    <tr>\n",
              "      <th>3</th>\n",
              "      <td>13</td>\n",
              "      <td>5</td>\n",
              "      <td>7</td>\n",
              "      <td>39</td>\n",
              "      <td>0</td>\n",
              "      <td>0</td>\n",
              "      <td>носитель признака</td>\n",
              "      <td>5</td>\n",
              "      <td>1</td>\n",
              "      <td>2</td>\n",
              "      <td>0</td>\n",
              "      <td>1</td>\n",
              "      <td>7</td>\n",
              "      <td>1</td>\n",
              "      <td>1</td>\n",
              "      <td>2</td>\n",
              "      <td>1</td>\n",
              "      <td>3</td>\n",
              "      <td>0</td>\n",
              "      <td>2</td>\n",
              "      <td>1</td>\n",
              "      <td>6</td>\n",
              "      <td>1</td>\n",
              "      <td>0</td>\n",
              "      <td>2</td>\n",
              "      <td>3</td>\n",
              "      <td>8</td>\n",
              "      <td>1</td>\n",
              "      <td>1</td>\n",
              "      <td>2</td>\n",
              "      <td>1</td>\n",
              "      <td>3</td>\n",
              "      <td>0</td>\n",
              "      <td>2</td>\n",
              "      <td>1</td>\n",
              "      <td>0.088845</td>\n",
              "      <td>0.015245</td>\n",
              "      <td>-0.082374</td>\n",
              "      <td>-0.104430</td>\n",
              "      <td>0.009510</td>\n",
              "      <td>...</td>\n",
              "      <td>0.358182</td>\n",
              "      <td>0.542068</td>\n",
              "      <td>0.206414</td>\n",
              "      <td>0.302539</td>\n",
              "      <td>0.555854</td>\n",
              "      <td>0.989839</td>\n",
              "      <td>0.405460</td>\n",
              "      <td>0.486106</td>\n",
              "      <td>0.525027</td>\n",
              "      <td>0.787109</td>\n",
              "      <td>0.311629</td>\n",
              "      <td>0.887560</td>\n",
              "      <td>0.576048</td>\n",
              "      <td>0.397196</td>\n",
              "      <td>0.343377</td>\n",
              "      <td>0.800954</td>\n",
              "      <td>0.383498</td>\n",
              "      <td>0.072044</td>\n",
              "      <td>0.639387</td>\n",
              "      <td>0.307955</td>\n",
              "      <td>0.765007</td>\n",
              "      <td>0.418273</td>\n",
              "      <td>0.445309</td>\n",
              "      <td>0.058419</td>\n",
              "      <td>0.631618</td>\n",
              "      <td>0.759543</td>\n",
              "      <td>0.238696</td>\n",
              "      <td>0.484908</td>\n",
              "      <td>0.805737</td>\n",
              "      <td>0.834601</td>\n",
              "      <td>0.780127</td>\n",
              "      <td>0.030312</td>\n",
              "      <td>0.570560</td>\n",
              "      <td>0.609741</td>\n",
              "      <td>0.047581</td>\n",
              "      <td>0.371611</td>\n",
              "      <td>0.506360</td>\n",
              "      <td>0.257980</td>\n",
              "      <td>0.611160</td>\n",
              "      <td>0.678548</td>\n",
              "    </tr>\n",
              "    <tr>\n",
              "      <th>4</th>\n",
              "      <td>5</td>\n",
              "      <td>2</td>\n",
              "      <td>0</td>\n",
              "      <td>198</td>\n",
              "      <td>0</td>\n",
              "      <td>0</td>\n",
              "      <td>атрибут</td>\n",
              "      <td>1</td>\n",
              "      <td>2</td>\n",
              "      <td>1</td>\n",
              "      <td>2</td>\n",
              "      <td>3</td>\n",
              "      <td>0</td>\n",
              "      <td>1</td>\n",
              "      <td>1</td>\n",
              "      <td>2</td>\n",
              "      <td>1</td>\n",
              "      <td>3</td>\n",
              "      <td>0</td>\n",
              "      <td>2</td>\n",
              "      <td>1</td>\n",
              "      <td>6</td>\n",
              "      <td>1</td>\n",
              "      <td>0</td>\n",
              "      <td>2</td>\n",
              "      <td>3</td>\n",
              "      <td>8</td>\n",
              "      <td>1</td>\n",
              "      <td>1</td>\n",
              "      <td>2</td>\n",
              "      <td>1</td>\n",
              "      <td>3</td>\n",
              "      <td>0</td>\n",
              "      <td>2</td>\n",
              "      <td>1</td>\n",
              "      <td>0.374267</td>\n",
              "      <td>-0.131094</td>\n",
              "      <td>0.304099</td>\n",
              "      <td>-0.486015</td>\n",
              "      <td>-0.042552</td>\n",
              "      <td>...</td>\n",
              "      <td>0.530656</td>\n",
              "      <td>0.152995</td>\n",
              "      <td>0.832651</td>\n",
              "      <td>0.861681</td>\n",
              "      <td>0.053286</td>\n",
              "      <td>0.488224</td>\n",
              "      <td>0.111015</td>\n",
              "      <td>0.882416</td>\n",
              "      <td>0.836782</td>\n",
              "      <td>0.813956</td>\n",
              "      <td>0.998856</td>\n",
              "      <td>0.635179</td>\n",
              "      <td>0.960186</td>\n",
              "      <td>0.744077</td>\n",
              "      <td>0.060024</td>\n",
              "      <td>0.422104</td>\n",
              "      <td>0.631841</td>\n",
              "      <td>0.443085</td>\n",
              "      <td>0.387311</td>\n",
              "      <td>0.264894</td>\n",
              "      <td>0.548495</td>\n",
              "      <td>0.791192</td>\n",
              "      <td>0.252804</td>\n",
              "      <td>0.101787</td>\n",
              "      <td>0.722823</td>\n",
              "      <td>0.993077</td>\n",
              "      <td>0.241733</td>\n",
              "      <td>0.430290</td>\n",
              "      <td>0.442509</td>\n",
              "      <td>0.041672</td>\n",
              "      <td>0.346733</td>\n",
              "      <td>0.638732</td>\n",
              "      <td>0.982961</td>\n",
              "      <td>0.552926</td>\n",
              "      <td>0.374383</td>\n",
              "      <td>0.092812</td>\n",
              "      <td>0.031983</td>\n",
              "      <td>0.382825</td>\n",
              "      <td>0.193317</td>\n",
              "      <td>0.900728</td>\n",
              "    </tr>\n",
              "  </tbody>\n",
              "</table>\n",
              "<p>5 rows × 635 columns</p>\n",
              "</div>"
            ],
            "text/plain": [
              "   DepRel  SyntRank  HeadPos  HeadFeat  ...       596       597       598       599\n",
              "0      17         2        0       228  ...  0.893788  0.266273  0.072944  0.801592\n",
              "1      26         5        7        87  ...  0.331715  0.382788  0.517585  0.608613\n",
              "2      13         2        0       226  ...  0.697439  0.286469  0.676455  0.243926\n",
              "3      13         5        7        39  ...  0.506360  0.257980  0.611160  0.678548\n",
              "4       5         2        0       198  ...  0.031983  0.382825  0.193317  0.900728\n",
              "\n",
              "[5 rows x 635 columns]"
            ]
          },
          "metadata": {
            "tags": []
          },
          "execution_count": 80
        }
      ]
    },
    {
      "cell_type": "code",
      "metadata": {
        "id": "s8S318bCqpWI",
        "outputId": "100c6801-5017-4660-a3ce-833af0546d1d",
        "colab": {
          "base_uri": "https://localhost:8080/",
          "height": 607
        }
      },
      "source": [
        "plt.figure(figsize=(15, 10))\n",
        "df_corr = df_encode.drop(k + ['P' + text for text in k] + [i for i in range(600)], axis=1).fillna('None')\n",
        "df_corr['Role'] = lb_make.fit_transform(df_corr['Role'])\n",
        "sn.heatmap(df_corr.corr(), annot=True, cmap='Greys')\n",
        "plt.title('Матрица корреляции признаков')\n",
        "plt.show()"
      ],
      "execution_count": 81,
      "outputs": [
        {
          "output_type": "display_data",
          "data": {
            "image/png": "[encoded data removed]",
            "text/plain": [
              "<Figure size 1080x720 with 2 Axes>"
            ]
          },
          "metadata": {
            "tags": [],
            "needs_background": "light"
          }
        }
      ]
    },
    {
      "cell_type": "code",
      "metadata": {
        "id": "IPVyg9owPWOS"
      },
      "source": [
        "df_final.fillna('None', inplace=True)\n",
        "\n",
        "# удаляем признак SyntRank, так как его нет в эталонном корпусе\n",
        "df_final.drop('SyntRank', axis=1, inplace=True)\n",
        "\n",
        "# делим на обучающую и тестовую выборку\n",
        "train_data = df_final[:38880].drop(['Role'], axis=1)\n",
        "train_labels = df_final[:38880]['Role']\n",
        "\n",
        "test_data = df_final[38880:].drop(['Role'], axis=1)\n",
        "test_labels = df_final[38880:]['Role']"
      ],
      "execution_count": null,
      "outputs": []
    },
    {
      "cell_type": "code",
      "metadata": {
        "id": "piCcG7BYq_Ux"
      },
      "source": [
        "# определение категориальных признаков для модели\n",
        "cat_features = list(train_data.columns[:33])"
      ],
      "execution_count": null,
      "outputs": []
    },
    {
      "cell_type": "code",
      "metadata": {
        "id": "rG_5tiftmVu8"
      },
      "source": [
        "cb_model = CatBoostClassifier(learning_rate=0.02,\n",
        "                           l2_leaf_reg=3,\n",
        "                           depth=6,\n",
        "                           task_type='GPU',\n",
        "                           iterations=1500)\n",
        "cb_model.fit(train_data, train_labels, cat_features,  verbose=True)"
      ],
      "execution_count": null,
      "outputs": []
    },
    {
      "cell_type": "code",
      "metadata": {
        "id": "XWOhXXp0ctHK"
      },
      "source": [
        "cb_model.save_model('catboost_model')"
      ],
      "execution_count": null,
      "outputs": []
    },
    {
      "cell_type": "markdown",
      "metadata": {
        "id": "c9a1rzpgVCqP"
      },
      "source": [
        "Важность признаков:"
      ]
    },
    {
      "cell_type": "code",
      "metadata": {
        "id": "cWHPly8Hr6Wk"
      },
      "source": [
        "feat = cb_model.get_feature_importance(prettified=True)"
      ],
      "execution_count": null,
      "outputs": []
    },
    {
      "cell_type": "code",
      "metadata": {
        "id": "pZu9ifURFRbi",
        "outputId": "be6fa788-3c96-43ba-b180-8075dd3a9542",
        "colab": {
          "base_uri": "https://localhost:8080/",
          "height": 340
        }
      },
      "source": [
        "feat[feat['Feature Id'].str.isalpha()][:10]"
      ],
      "execution_count": null,
      "outputs": [
        {
          "output_type": "execute_result",
          "data": {
            "text/html": [
              "<div>\n",
              "<style scoped>\n",
              "    .dataframe tbody tr th:only-of-type {\n",
              "        vertical-align: middle;\n",
              "    }\n",
              "\n",
              "    .dataframe tbody tr th {\n",
              "        vertical-align: top;\n",
              "    }\n",
              "\n",
              "    .dataframe thead th {\n",
              "        text-align: right;\n",
              "    }\n",
              "</style>\n",
              "<table border=\"1\" class=\"dataframe\">\n",
              "  <thead>\n",
              "    <tr style=\"text-align: right;\">\n",
              "      <th></th>\n",
              "      <th>Feature Id</th>\n",
              "      <th>Importances</th>\n",
              "    </tr>\n",
              "  </thead>\n",
              "  <tbody>\n",
              "    <tr>\n",
              "      <th>0</th>\n",
              "      <td>DepRel</td>\n",
              "      <td>9.065631</td>\n",
              "    </tr>\n",
              "    <tr>\n",
              "      <th>1</th>\n",
              "      <td>Animacy</td>\n",
              "      <td>4.256594</td>\n",
              "    </tr>\n",
              "    <tr>\n",
              "      <th>2</th>\n",
              "      <td>HeadFeat</td>\n",
              "      <td>3.439191</td>\n",
              "    </tr>\n",
              "    <tr>\n",
              "      <th>5</th>\n",
              "      <td>Case</td>\n",
              "      <td>2.306725</td>\n",
              "    </tr>\n",
              "    <tr>\n",
              "      <th>16</th>\n",
              "      <td>PredicateFeat</td>\n",
              "      <td>0.888729</td>\n",
              "    </tr>\n",
              "    <tr>\n",
              "      <th>26</th>\n",
              "      <td>fPOS</td>\n",
              "      <td>0.619800</td>\n",
              "    </tr>\n",
              "    <tr>\n",
              "      <th>41</th>\n",
              "      <td>HeadPos</td>\n",
              "      <td>0.449195</td>\n",
              "    </tr>\n",
              "    <tr>\n",
              "      <th>46</th>\n",
              "      <td>Number</td>\n",
              "      <td>0.420985</td>\n",
              "    </tr>\n",
              "    <tr>\n",
              "      <th>47</th>\n",
              "      <td>Gender</td>\n",
              "      <td>0.413685</td>\n",
              "    </tr>\n",
              "    <tr>\n",
              "      <th>56</th>\n",
              "      <td>PAspect</td>\n",
              "      <td>0.368559</td>\n",
              "    </tr>\n",
              "  </tbody>\n",
              "</table>\n",
              "</div>"
            ],
            "text/plain": [
              "       Feature Id  Importances\n",
              "0          DepRel     9.065631\n",
              "1         Animacy     4.256594\n",
              "2        HeadFeat     3.439191\n",
              "5            Case     2.306725\n",
              "16  PredicateFeat     0.888729\n",
              "26           fPOS     0.619800\n",
              "41        HeadPos     0.449195\n",
              "46         Number     0.420985\n",
              "47         Gender     0.413685\n",
              "56        PAspect     0.368559"
            ]
          },
          "metadata": {
            "tags": []
          },
          "execution_count": 24
        }
      ]
    },
    {
      "cell_type": "markdown",
      "metadata": {
        "id": "-Ya2EIZZVFgS"
      },
      "source": [
        "Предсказание на тестовой выборке:"
      ]
    },
    {
      "cell_type": "code",
      "metadata": {
        "id": "V9TlgK32Tnd6"
      },
      "source": [
        "preds = cb_model.predict(test_data)\n",
        "y_pred = [pred[0] for pred in preds]"
      ],
      "execution_count": null,
      "outputs": []
    },
    {
      "cell_type": "markdown",
      "metadata": {
        "id": "wlnih9hIVcaU"
      },
      "source": [
        "Метрики качества:"
      ]
    },
    {
      "cell_type": "code",
      "metadata": {
        "id": "jUFSrkuMVkbO"
      },
      "source": [
        "from sklearn.metrics import accuracy_score, balanced_accuracy_score, f1_score"
      ],
      "execution_count": 64,
      "outputs": []
    },
    {
      "cell_type": "code",
      "metadata": {
        "id": "xWdzTMHH6jJ0",
        "outputId": "ac47e94c-a7ff-4f59-f74d-c644e4e599a1",
        "colab": {
          "base_uri": "https://localhost:8080/",
          "height": 35
        }
      },
      "source": [
        "print('Accuracy:', accuracy_score(preds, test_labels))"
      ],
      "execution_count": 59,
      "outputs": [
        {
          "output_type": "stream",
          "text": [
            "Accuracy: 0.39241857981847306\n"
          ],
          "name": "stdout"
        }
      ]
    },
    {
      "cell_type": "code",
      "metadata": {
        "id": "pzuxfKO86woY",
        "outputId": "0731fba2-3e28-4b59-fb4f-132e622660a5",
        "colab": {
          "base_uri": "https://localhost:8080/",
          "height": 35
        }
      },
      "source": [
        "print('Сбалансированная по классам accuracy:', balanced_accuracy_score(preds, test_labels))"
      ],
      "execution_count": 63,
      "outputs": [
        {
          "output_type": "stream",
          "text": [
            "Сбалансированная по классам accuracy: 0.429778952321943\n"
          ],
          "name": "stdout"
        }
      ]
    },
    {
      "cell_type": "code",
      "metadata": {
        "id": "0h1mx85o7rmt",
        "outputId": "c60e38d9-4d76-4a0a-a142-9e3c79bec77f",
        "colab": {
          "base_uri": "https://localhost:8080/",
          "height": 35
        }
      },
      "source": [
        "print('F1 micro:', f1_score(preds, test_labels, average='micro'))"
      ],
      "execution_count": 67,
      "outputs": [
        {
          "output_type": "stream",
          "text": [
            "F1 micro: 0.39241857981847306\n"
          ],
          "name": "stdout"
        }
      ]
    },
    {
      "cell_type": "code",
      "metadata": {
        "id": "1djXDA7X8C6C",
        "outputId": "adb48a2e-315d-4fe4-d257-5fef45b38758",
        "colab": {
          "base_uri": "https://localhost:8080/",
          "height": 35
        }
      },
      "source": [
        "print('F1 macro:', f1_score(preds, test_labels, average='macro'))"
      ],
      "execution_count": 68,
      "outputs": [
        {
          "output_type": "stream",
          "text": [
            "F1 macro: 0.08525558315663843\n"
          ],
          "name": "stdout"
        }
      ]
    },
    {
      "cell_type": "markdown",
      "metadata": {
        "id": "BLUoy_Lw6gRG"
      },
      "source": [
        "Accuracy по классам"
      ]
    },
    {
      "cell_type": "code",
      "metadata": {
        "id": "lhssGyi_JTlJ"
      },
      "source": [
        "z = pd.DataFrame(columns=['Role', 'Accuracy'])\n",
        "for role in popular:\n",
        "    z.loc[len(z)] = [role, len(quality[(quality['y_true'] == role) & (quality['y_pred'] == role)]) / len(quality[quality['y_true'] == role])]"
      ],
      "execution_count": null,
      "outputs": []
    },
    {
      "cell_type": "code",
      "metadata": {
        "id": "hjh_hmY7EmjH",
        "outputId": "1b4ca1e5-47a0-43da-d306-89ac0315b977",
        "colab": {
          "base_uri": "https://localhost:8080/",
          "height": 340
        }
      },
      "source": [
        "z.sort_values('Accuracy', ascending=False)"
      ],
      "execution_count": null,
      "outputs": [
        {
          "output_type": "execute_result",
          "data": {
            "text/html": [
              "<div>\n",
              "<style scoped>\n",
              "    .dataframe tbody tr th:only-of-type {\n",
              "        vertical-align: middle;\n",
              "    }\n",
              "\n",
              "    .dataframe tbody tr th {\n",
              "        vertical-align: top;\n",
              "    }\n",
              "\n",
              "    .dataframe thead th {\n",
              "        text-align: right;\n",
              "    }\n",
              "</style>\n",
              "<table border=\"1\" class=\"dataframe\">\n",
              "  <thead>\n",
              "    <tr style=\"text-align: right;\">\n",
              "      <th></th>\n",
              "      <th>Role</th>\n",
              "      <th>Accuracy</th>\n",
              "    </tr>\n",
              "  </thead>\n",
              "  <tbody>\n",
              "    <tr>\n",
              "      <th>0</th>\n",
              "      <td>агенс</td>\n",
              "      <td>0.815855</td>\n",
              "    </tr>\n",
              "    <tr>\n",
              "      <th>1</th>\n",
              "      <td>пациенс</td>\n",
              "      <td>0.625335</td>\n",
              "    </tr>\n",
              "    <tr>\n",
              "      <th>2</th>\n",
              "      <td>тема</td>\n",
              "      <td>0.496241</td>\n",
              "    </tr>\n",
              "    <tr>\n",
              "      <th>7</th>\n",
              "      <td>содержание высказывания</td>\n",
              "      <td>0.490798</td>\n",
              "    </tr>\n",
              "    <tr>\n",
              "      <th>8</th>\n",
              "      <td>содержание действия</td>\n",
              "      <td>0.471049</td>\n",
              "    </tr>\n",
              "    <tr>\n",
              "      <th>5</th>\n",
              "      <td>говорящий</td>\n",
              "      <td>0.453978</td>\n",
              "    </tr>\n",
              "    <tr>\n",
              "      <th>6</th>\n",
              "      <td>причина</td>\n",
              "      <td>0.423387</td>\n",
              "    </tr>\n",
              "    <tr>\n",
              "      <th>4</th>\n",
              "      <td>субъект психологического состояния</td>\n",
              "      <td>0.409988</td>\n",
              "    </tr>\n",
              "    <tr>\n",
              "      <th>3</th>\n",
              "      <td>субъект перемещения</td>\n",
              "      <td>0.376056</td>\n",
              "    </tr>\n",
              "    <tr>\n",
              "      <th>9</th>\n",
              "      <td>пациенс перемещения</td>\n",
              "      <td>0.160494</td>\n",
              "    </tr>\n",
              "  </tbody>\n",
              "</table>\n",
              "</div>"
            ],
            "text/plain": [
              "                                 Role  Accuracy\n",
              "0                               агенс  0.815855\n",
              "1                             пациенс  0.625335\n",
              "2                                тема  0.496241\n",
              "7             содержание высказывания  0.490798\n",
              "8                 содержание действия  0.471049\n",
              "5                           говорящий  0.453978\n",
              "6                             причина  0.423387\n",
              "4  субъект психологического состояния  0.409988\n",
              "3                 субъект перемещения  0.376056\n",
              "9                 пациенс перемещения  0.160494"
            ]
          },
          "metadata": {
            "tags": []
          },
          "execution_count": 91
        }
      ]
    },
    {
      "cell_type": "markdown",
      "metadata": {
        "id": "NkGNjE1Z5raC"
      },
      "source": [
        "Подсчет top-3 accuracy"
      ]
    },
    {
      "cell_type": "code",
      "metadata": {
        "id": "Abv0kV9N3PQn"
      },
      "source": [
        "probs = cb_model.predict_proba(test_data)"
      ],
      "execution_count": 51,
      "outputs": []
    },
    {
      "cell_type": "code",
      "metadata": {
        "id": "ZRdsPbCx5X2S"
      },
      "source": [
        "classes = cb_model.classes_"
      ],
      "execution_count": 52,
      "outputs": []
    },
    {
      "cell_type": "code",
      "metadata": {
        "id": "4nnW9M7B3aeD"
      },
      "source": [
        "sum_acc = 0\n",
        "for prob, label in zip(list(probs), test_labels):\n",
        "    idc = np.array(prob).argsort()[-3:]\n",
        "    if label in classes[idc]:\n",
        "        sum_acc += 1"
      ],
      "execution_count": 55,
      "outputs": []
    },
    {
      "cell_type": "code",
      "metadata": {
        "id": "TJwu73qY5FgR",
        "outputId": "8914f096-7657-4fde-cccd-ce0d48602dbe",
        "colab": {
          "base_uri": "https://localhost:8080/",
          "height": 35
        }
      },
      "source": [
        "print('Значение top-3 accuracy:', sum_acc/len(test_labels))"
      ],
      "execution_count": 56,
      "outputs": [
        {
          "output_type": "stream",
          "text": [
            "Значение top-3 accuracy: 0.6267256502173747\n"
          ],
          "name": "stdout"
        }
      ]
    },
    {
      "cell_type": "markdown",
      "metadata": {
        "id": "efyPIlDYVK79"
      },
      "source": [
        "Матрица ошибок для 10 наиболее частотных классов:"
      ]
    },
    {
      "cell_type": "code",
      "metadata": {
        "id": "uyFRr5os_wu3",
        "outputId": "866bcc9a-c5dc-4c54-f3ab-2023251911fc",
        "colab": {
          "base_uri": "https://localhost:8080/",
          "height": 796
        }
      },
      "source": [
        "plt.figure(figsize=(15, 10))\n",
        "sn.heatmap(confusion_matrix(test_labels, y_pred, labels=popular, normalize='true'),\n",
        "           annot=True,\n",
        "           xticklabels=popular, yticklabels=popular,\n",
        "           cmap='Greys')\n",
        "plt.title('Матрица ошибок на тестовой выборке')\n",
        "plt.show()"
      ],
      "execution_count": 71,
      "outputs": [
        {
          "output_type": "display_data",
          "data": {
            "image/png": "[encoded data removed]",
            "text/plain": [
              "<Figure size 1080x720 with 2 Axes>"
            ]
          },
          "metadata": {
            "tags": [],
            "needs_background": "light"
          }
        }
      ]
    },
    {
      "cell_type": "markdown",
      "metadata": {
        "id": "SRaGpnOuqs7c"
      },
      "source": [
        "# На материале SynTagRus"
      ]
    },
    {
      "cell_type": "code",
      "metadata": {
        "id": "WpHY7yy0rNeR"
      },
      "source": [
        "k = ['Case', 'Degree', 'Number', 'Animacy', 'Gender', 'fPOS', 'Aspect', 'Tense', 'VerbForm', 'Voice', 'Person', 'Polarity', 'Mood',  'Variant']\n",
        "\n",
        "def split_features(feats):\n",
        "    d = dict.fromkeys(k, 'None')\n",
        "    if feats != 'nan' and feats != '_' and feats != 'Foreign=Yes':\n",
        "        for feat in feats.split('|'):\n",
        "            d[feat.split('=')[0]] = feat.split('=')[1]\n",
        "    return ' '.join(list(d.values()))"
      ],
      "execution_count": 82,
      "outputs": []
    },
    {
      "cell_type": "code",
      "metadata": {
        "id": "b60mStrYdaxW"
      },
      "source": [
        "def syntagrus_to_format(filename=\"ru_syntagrus-ud-test.conllu\"):\n",
        "    data_file = open(filename, \"r\", encoding=\"utf-8\")\n",
        "    rows = data_file.read().strip().split('#')[1:]\n",
        "\n",
        "    # добавляем информацию о предложении в отдельную колонку\n",
        "    new_text = []\n",
        "    for i in range(len(rows)):\n",
        "        if i % 2 == 0:\n",
        "            id = rows[i].split('=')[1].strip()\n",
        "        else:\n",
        "            words = rows[i].split('\\n')[1:]\n",
        "            for word in words:\n",
        "                if len(word) > 0:\n",
        "                    new_text.append(word + '\\t' + id)\n",
        "    \n",
        "    # сохраняем в таком виде в файл\n",
        "    with open('syntagrus_data.conllu', 'w', encoding='utf-8') as f:\n",
        "        f.write('\\n'.join(new_text))\n",
        "\n",
        "    raw = pd.read_csv('syntagrus_data.conllu', sep='\\t', \n",
        "                     names=['IdWord', 'HeadWord', 'HeadLemma', 'HeadPos', 'Xpos',\n",
        "                            'HeadFeat', 'Head', 'DepRel', 'Rel', 'Space', 'IdSent'])\n",
        "    \n",
        "    raw['IdWord'] = raw['IdWord'].astype('int') \n",
        "\n",
        "    # удаляем пунктуацию\n",
        "    syntag = raw.drop(raw[(raw.HeadLemma == 'PUNCT') | (raw.HeadPos == 'PUNCT')].index).reset_index(drop=True)\n",
        "\n",
        "    # отдельно храним информацию о глаголах\n",
        "    verbs = syntag[(syntag['HeadFeat'].str.contains('Fin')) & (syntag['HeadPos'] == 'VERB')][['IdWord', 'HeadLemma', 'HeadFeat', 'IdSent']]\n",
        "\n",
        "    syntag = syntag.drop(syntag[syntag['Head'] == '_'].index)\n",
        "    syntag['Head'] = syntag['Head'].astype('int')\n",
        "\n",
        "    # соединяем две таблицы, чтобы добавить информацию о глаголе его зависимым\n",
        "    syntag = syntag.merge(verbs, left_on=['Head', 'IdSent'], right_on=['IdWord', 'IdSent'], suffixes=[None, 'Pred'], how='inner')\n",
        "\n",
        "    syntag = syntag.drop(['Xpos', 'Head', 'Rel', 'Space'], axis=1).drop(syntag[syntag.DepRel == 'parataxis'].index)\n",
        "    syntag.loc[syntag.DepRel == 'obj', 'DepRel'] = 'dobj'\n",
        "\n",
        "    # парсим грамматические признаки, чтобы рассматривать каждый из них по отдельности\n",
        "    syntag['HeadFeatSplit'] = syntag['HeadFeat'].apply(lambda x: split_features(str(x)))\n",
        "    syntag['HeadFeatPredSplit'] = syntag['HeadFeatPred'].apply(lambda x: split_features(str(x)))\n",
        "\n",
        "    syntag[k] = syntag.HeadFeatSplit.str.split(expand=True)\n",
        "    syntag[['P'+feat for feat in k]] = syntag.HeadFeatPredSplit.str.split(expand=True)\n",
        "\n",
        "    # векторизуем леммы слов и предикатов\n",
        "    matrix = syntag.apply(lambda x: vectorize(x['HeadLemma'], x['HeadPos']), axis=1, result_type='expand')\n",
        "    matrix_2 = syntag.apply(lambda x: vectorize(x['HeadLemmaPred'], 'VERB'), axis=1, result_type='expand')\n",
        "    matrices = pd.concat([matrix, matrix_2], axis=1, ignore_index=True)\n",
        "\n",
        "    data_final = pd.concat([syntag, matrices], axis=1).drop(['HeadLemma', 'HeadLemmaPred',\n",
        "                                                             'HeadFeatSplit', 'HeadFeatPredSplit', 'IdWordPred', 'HeadWord'], axis=1)\n",
        "    data_final.insert(5, 'PredicatePos', ['VERB']*data_final.shape[0])\n",
        "\n",
        "    data_final = data_final.rename({'HeadFeatPred': 'PredicateFeat'}, axis=1)\n",
        "\n",
        "    return raw, data_final"
      ],
      "execution_count": 83,
      "outputs": []
    },
    {
      "cell_type": "code",
      "metadata": {
        "id": "lxio3DhHf3xz"
      },
      "source": [
        "raw, data_final = syntagrus_to_format()"
      ],
      "execution_count": 96,
      "outputs": []
    },
    {
      "cell_type": "code",
      "metadata": {
        "id": "gGfOl0tYyF7q"
      },
      "source": [
        "preds = cb_model.predict(data_final[['DepRel', 'HeadPos', 'HeadFeat', 'PredicateFeat', 'PredicatePos'] + k + ['P'+name for name in k] + list(range(600))])\n",
        "\n",
        "data_final.insert(0, 'Role', preds)"
      ],
      "execution_count": 97,
      "outputs": []
    },
    {
      "cell_type": "code",
      "metadata": {
        "id": "V1xpWfttn7U7"
      },
      "source": [
        "to_normal = raw.merge(data_final, on=['IdWord', 'IdSent'], how='outer')\n",
        "to_normal = to_normal.drop(to_normal.columns[12:], axis=1)\n",
        "to_normal['Role'] = to_normal['Role'].fillna('_')"
      ],
      "execution_count": 98,
      "outputs": []
    },
    {
      "cell_type": "code",
      "metadata": {
        "id": "KGzKRF-6lj9C",
        "outputId": "5e4ebdd3-20a1-49e5-80fc-a38bcaf86484",
        "colab": {
          "base_uri": "https://localhost:8080/",
          "height": 194
        }
      },
      "source": [
        "to_normal.head()"
      ],
      "execution_count": 99,
      "outputs": [
        {
          "output_type": "execute_result",
          "data": {
            "text/html": [
              "<div>\n",
              "<style scoped>\n",
              "    .dataframe tbody tr th:only-of-type {\n",
              "        vertical-align: middle;\n",
              "    }\n",
              "\n",
              "    .dataframe tbody tr th {\n",
              "        vertical-align: top;\n",
              "    }\n",
              "\n",
              "    .dataframe thead th {\n",
              "        text-align: right;\n",
              "    }\n",
              "</style>\n",
              "<table border=\"1\" class=\"dataframe\">\n",
              "  <thead>\n",
              "    <tr style=\"text-align: right;\">\n",
              "      <th></th>\n",
              "      <th>IdWord</th>\n",
              "      <th>HeadWord</th>\n",
              "      <th>HeadLemma</th>\n",
              "      <th>HeadPos_x</th>\n",
              "      <th>Xpos</th>\n",
              "      <th>HeadFeat_x</th>\n",
              "      <th>Head</th>\n",
              "      <th>DepRel_x</th>\n",
              "      <th>Rel</th>\n",
              "      <th>Space</th>\n",
              "      <th>IdSent</th>\n",
              "      <th>Role</th>\n",
              "    </tr>\n",
              "  </thead>\n",
              "  <tbody>\n",
              "    <tr>\n",
              "      <th>0</th>\n",
              "      <td>1</td>\n",
              "      <td>В</td>\n",
              "      <td>в</td>\n",
              "      <td>ADP</td>\n",
              "      <td>_</td>\n",
              "      <td>_</td>\n",
              "      <td>3</td>\n",
              "      <td>case</td>\n",
              "      <td>3:case</td>\n",
              "      <td>_</td>\n",
              "      <td>2003Armeniya.xml_1</td>\n",
              "      <td>_</td>\n",
              "    </tr>\n",
              "    <tr>\n",
              "      <th>1</th>\n",
              "      <td>2</td>\n",
              "      <td>советский</td>\n",
              "      <td>советский</td>\n",
              "      <td>ADJ</td>\n",
              "      <td>_</td>\n",
              "      <td>Animacy=Inan|Case=Acc|Degree=Pos|Gender=Masc|N...</td>\n",
              "      <td>3</td>\n",
              "      <td>amod</td>\n",
              "      <td>3:amod</td>\n",
              "      <td>_</td>\n",
              "      <td>2003Armeniya.xml_1</td>\n",
              "      <td>_</td>\n",
              "    </tr>\n",
              "    <tr>\n",
              "      <th>2</th>\n",
              "      <td>3</td>\n",
              "      <td>период</td>\n",
              "      <td>период</td>\n",
              "      <td>NOUN</td>\n",
              "      <td>_</td>\n",
              "      <td>Animacy=Inan|Case=Acc|Gender=Masc|Number=Sing</td>\n",
              "      <td>11</td>\n",
              "      <td>obl</td>\n",
              "      <td>11:obl</td>\n",
              "      <td>_</td>\n",
              "      <td>2003Armeniya.xml_1</td>\n",
              "      <td>тема</td>\n",
              "    </tr>\n",
              "    <tr>\n",
              "      <th>3</th>\n",
              "      <td>4</td>\n",
              "      <td>времени</td>\n",
              "      <td>время</td>\n",
              "      <td>NOUN</td>\n",
              "      <td>_</td>\n",
              "      <td>Animacy=Inan|Case=Gen|Gender=Neut|Number=Sing</td>\n",
              "      <td>3</td>\n",
              "      <td>nmod</td>\n",
              "      <td>3:nmod</td>\n",
              "      <td>_</td>\n",
              "      <td>2003Armeniya.xml_1</td>\n",
              "      <td>_</td>\n",
              "    </tr>\n",
              "    <tr>\n",
              "      <th>4</th>\n",
              "      <td>5</td>\n",
              "      <td>число</td>\n",
              "      <td>число</td>\n",
              "      <td>NOUN</td>\n",
              "      <td>_</td>\n",
              "      <td>Animacy=Inan|Case=Acc|Gender=Neut|Number=Sing</td>\n",
              "      <td>11</td>\n",
              "      <td>obj</td>\n",
              "      <td>11:obj</td>\n",
              "      <td>_</td>\n",
              "      <td>2003Armeniya.xml_1</td>\n",
              "      <td>пациенс</td>\n",
              "    </tr>\n",
              "  </tbody>\n",
              "</table>\n",
              "</div>"
            ],
            "text/plain": [
              "   IdWord   HeadWord  HeadLemma  ... Space              IdSent     Role\n",
              "0       1          В          в  ...     _  2003Armeniya.xml_1        _\n",
              "1       2  советский  советский  ...     _  2003Armeniya.xml_1        _\n",
              "2       3     период     период  ...     _  2003Armeniya.xml_1     тема\n",
              "3       4    времени      время  ...     _  2003Armeniya.xml_1        _\n",
              "4       5      число      число  ...     _  2003Armeniya.xml_1  пациенс\n",
              "\n",
              "[5 rows x 12 columns]"
            ]
          },
          "metadata": {
            "tags": []
          },
          "execution_count": 99
        }
      ]
    },
    {
      "cell_type": "code",
      "metadata": {
        "id": "jJl25Mw4lxmr"
      },
      "source": [
        "g = open('syntagrus_test_result.conllu', 'a', encoding='utf-8')\n",
        "for group in to_normal.groupby('IdSent'):\n",
        "    g.write('# sent_id = ' + group[0] + '\\n')\n",
        "    group[1].drop('IdSent', axis=1).to_csv(g, mode='a', sep='\\t', header=False, index=False)"
      ],
      "execution_count": 100,
      "outputs": []
    },
    {
      "cell_type": "code",
      "metadata": {
        "id": "Ek5trfVN_LDE"
      },
      "source": [
        ""
      ],
      "execution_count": null,
      "outputs": []
    }
  ]
}